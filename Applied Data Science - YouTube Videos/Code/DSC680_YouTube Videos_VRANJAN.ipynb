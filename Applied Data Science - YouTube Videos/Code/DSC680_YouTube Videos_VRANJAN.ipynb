{
 "cells": [
  {
   "cell_type": "code",
   "execution_count": 1,
   "metadata": {},
   "outputs": [],
   "source": [
    "# Course - DSC 680 - Applied Data Science \n",
    "# Name - Vikas Ranjan\n",
    "# Final Project 1 - YouTube Video in US\n",
    "# Date - 6/22/21"
   ]
  },
  {
   "cell_type": "markdown",
   "metadata": {},
   "source": [
    "## YouTube Videos"
   ]
  },
  {
   "cell_type": "markdown",
   "metadata": {},
   "source": [
    "### Problem Statement:\n",
    "\n",
    "YouTube is the world’s second largest search engine and second most visited site after Google. In fact, 37% of all mobile internet traffic belongs to YouTube. It is the second most popular social media platform with almost 1.9bn users. More than 500 hours of video are uploaded to YouTube every minute. We watch over 1 billion hours of YouTube videos a day, more than Netflix and Facebook video combined. It has not only transformed the music industry, but on a broader level it has given power to its views. It has not only become a great alternative to traditional media. Content creators are being paid to create and upload videos which is based on the number of subscribers they have. \n",
    "To determine the year’s top-trending videos, YouTube uses a combination of factors including measuring users interactions such as number of views, shares, comments and likes. It is remarkable to note that they are not the most-viewed videos overall for the year. Top performers on the YouTube trending list are music videos, celebrity and/or reality TV performances. \n",
    "\n",
    "All these facts propelled me to look for and find the dataset which has statistics on YouTube views. The intent of this project is to perform EDA and statistical analysis on the dataset. I’ll also look at various factors that would affect on how popular a YouTube video will be. I’ll also be applying machine learning algorithm to predict if a video will get more than 1M views or not. I’ll also perform sentiment analysis on the comments of these videos. "
   ]
  },
  {
   "cell_type": "code",
   "execution_count": 2,
   "metadata": {},
   "outputs": [],
   "source": [
    "# Load necessary libraries\n",
    "import pandas as pd\n",
    "import numpy as np\n",
    "import matplotlib.pyplot as plt\n",
    "import matplotlib.colors as colors\n",
    "%matplotlib inline\n",
    "import seaborn as sns\n",
    "import json\n",
    "from wordcloud import WordCloud, STOPWORDS\n",
    "from sklearn.model_selection import train_test_split\n",
    "from sklearn.metrics import r2_score,mean_absolute_error\n",
    "from sklearn.linear_model import LinearRegression\n",
    "from sklearn.preprocessing import LabelEncoder\n",
    "from sklearn.metrics import mean_absolute_error\n",
    "from sklearn.ensemble import RandomForestRegressor\n",
    "import warnings\n",
    "warnings.filterwarnings(\"ignore\")"
   ]
  },
  {
   "cell_type": "code",
   "execution_count": 3,
   "metadata": {},
   "outputs": [],
   "source": [
    "# Load credit card fraud dataset into a dataframe\n",
    "USVideos_df = pd.read_csv(\"USvideos.csv\")\n",
    "\n",
    "# Load the category json file\n",
    "with open(\"US_category_id.json\") as file: \n",
    "    category_res = json.load(file)\n",
    "\n",
    "cat_dict = {'kind':[],'etag':[],'id':[],'title':[]}\n",
    "for dict_in in category_res['items']:\n",
    "    cat_dict['kind'].append(dict_in['kind'])\n",
    "    cat_dict['etag'].append(dict_in['etag'])\n",
    "    cat_dict['id'].append(dict_in['id'])\n",
    "    cat_dict['title'].append(dict_in['snippet']['title'])\n",
    "\n",
    "cat_df = pd.DataFrame(cat_dict)"
   ]
  },
  {
   "cell_type": "code",
   "execution_count": 4,
   "metadata": {},
   "outputs": [
    {
     "name": "stdout",
     "output_type": "stream",
     "text": [
      "The dimension of the table is:  (40949, 16)\n"
     ]
    }
   ],
   "source": [
    "# Check the dimension of the data frame\n",
    "print(\"The dimension of the table is: \", USVideos_df.shape)"
   ]
  },
  {
   "cell_type": "code",
   "execution_count": 5,
   "metadata": {},
   "outputs": [
    {
     "name": "stdout",
     "output_type": "stream",
     "text": [
      "      video_id trending_date  \\\n",
      "0  2kyS6SvSYSE      17.14.11   \n",
      "1  1ZAPwfrtAFY      17.14.11   \n",
      "2  5qpjK5DgCt4      17.14.11   \n",
      "3  puqaWrEC7tY      17.14.11   \n",
      "4  d380meD0W0M      17.14.11   \n",
      "\n",
      "                                               title          channel_title  \\\n",
      "0                 WE WANT TO TALK ABOUT OUR MARRIAGE           CaseyNeistat   \n",
      "1  The Trump Presidency: Last Week Tonight with J...        LastWeekTonight   \n",
      "2  Racist Superman | Rudy Mancuso, King Bach & Le...           Rudy Mancuso   \n",
      "3                   Nickelback Lyrics: Real or Fake?  Good Mythical Morning   \n",
      "4                           I Dare You: GOING BALD!?               nigahiga   \n",
      "\n",
      "   category_id              publish_time  \\\n",
      "0           22  2017-11-13T17:13:01.000Z   \n",
      "1           24  2017-11-13T07:30:00.000Z   \n",
      "2           23  2017-11-12T19:05:24.000Z   \n",
      "3           24  2017-11-13T11:00:04.000Z   \n",
      "4           24  2017-11-12T18:01:41.000Z   \n",
      "\n",
      "                                                tags    views   likes  \\\n",
      "0                                    SHANtell martin   748374   57527   \n",
      "1  last week tonight trump presidency|\"last week ...  2418783   97185   \n",
      "2  racist superman|\"rudy\"|\"mancuso\"|\"king\"|\"bach\"...  3191434  146033   \n",
      "3  rhett and link|\"gmm\"|\"good mythical morning\"|\"...   343168   10172   \n",
      "4  ryan|\"higa\"|\"higatv\"|\"nigahiga\"|\"i dare you\"|\"...  2095731  132235   \n",
      "\n",
      "   dislikes  comment_count                                  thumbnail_link  \\\n",
      "0      2966          15954  https://i.ytimg.com/vi/2kyS6SvSYSE/default.jpg   \n",
      "1      6146          12703  https://i.ytimg.com/vi/1ZAPwfrtAFY/default.jpg   \n",
      "2      5339           8181  https://i.ytimg.com/vi/5qpjK5DgCt4/default.jpg   \n",
      "3       666           2146  https://i.ytimg.com/vi/puqaWrEC7tY/default.jpg   \n",
      "4      1989          17518  https://i.ytimg.com/vi/d380meD0W0M/default.jpg   \n",
      "\n",
      "   comments_disabled  ratings_disabled  video_error_or_removed  \\\n",
      "0              False             False                   False   \n",
      "1              False             False                   False   \n",
      "2              False             False                   False   \n",
      "3              False             False                   False   \n",
      "4              False             False                   False   \n",
      "\n",
      "                                         description  \n",
      "0  SHANTELL'S CHANNEL - https://www.youtube.com/s...  \n",
      "1  One year after the presidential election, John...  \n",
      "2  WATCH MY PREVIOUS VIDEO ▶ \\n\\nSUBSCRIBE ► http...  \n",
      "3  Today we find out if Link is a Nickelback amat...  \n",
      "4  I know it's been a while since we did this sho...  \n"
     ]
    }
   ],
   "source": [
    "print(USVideos_df.head(5))"
   ]
  },
  {
   "cell_type": "code",
   "execution_count": 6,
   "metadata": {
    "scrolled": false
   },
   "outputs": [
    {
     "data": {
      "text/plain": [
       "video_id                  object\n",
       "trending_date             object\n",
       "title                     object\n",
       "channel_title             object\n",
       "category_id                int64\n",
       "publish_time              object\n",
       "tags                      object\n",
       "views                      int64\n",
       "likes                      int64\n",
       "dislikes                   int64\n",
       "comment_count              int64\n",
       "thumbnail_link            object\n",
       "comments_disabled           bool\n",
       "ratings_disabled            bool\n",
       "video_error_or_removed      bool\n",
       "description               object\n",
       "dtype: object"
      ]
     },
     "execution_count": 6,
     "metadata": {},
     "output_type": "execute_result"
    }
   ],
   "source": [
    "# Check the types of each feature\n",
    "USVideos_df.dtypes"
   ]
  },
  {
   "cell_type": "code",
   "execution_count": 7,
   "metadata": {},
   "outputs": [
    {
     "name": "stdout",
     "output_type": "stream",
     "text": [
      "                    kind                                               etag  \\\n",
      "0  youtube#videoCategory  \"m2yskBQFythfE4irbTIeOgYYfBU/Xy1mB4_yLrHy_BmKm...   \n",
      "1  youtube#videoCategory  \"m2yskBQFythfE4irbTIeOgYYfBU/UZ1oLIIz2dxIhO45Z...   \n",
      "2  youtube#videoCategory  \"m2yskBQFythfE4irbTIeOgYYfBU/nqRIq97-xe5XRZTxb...   \n",
      "3  youtube#videoCategory  \"m2yskBQFythfE4irbTIeOgYYfBU/HwXKamM1Q20q9BN-o...   \n",
      "4  youtube#videoCategory  \"m2yskBQFythfE4irbTIeOgYYfBU/9GQMSRjrZdHeb1OEM...   \n",
      "\n",
      "   id             title  \n",
      "0   1  Film & Animation  \n",
      "1   2  Autos & Vehicles  \n",
      "2  10             Music  \n",
      "3  15    Pets & Animals  \n",
      "4  17            Sports  \n"
     ]
    }
   ],
   "source": [
    "print(cat_df.head(5))"
   ]
  },
  {
   "cell_type": "code",
   "execution_count": 8,
   "metadata": {
    "scrolled": false
   },
   "outputs": [
    {
     "data": {
      "text/plain": [
       "video_id                    0\n",
       "trending_date               0\n",
       "title                       0\n",
       "channel_title               0\n",
       "category_id                 0\n",
       "publish_time                0\n",
       "tags                        0\n",
       "views                       0\n",
       "likes                       0\n",
       "dislikes                    0\n",
       "comment_count               0\n",
       "thumbnail_link              0\n",
       "comments_disabled           0\n",
       "ratings_disabled            0\n",
       "video_error_or_removed      0\n",
       "description               570\n",
       "dtype: int64"
      ]
     },
     "execution_count": 8,
     "metadata": {},
     "output_type": "execute_result"
    }
   ],
   "source": [
    "# Check if any missing values\n",
    "USVideos_df.isnull().sum()"
   ]
  },
  {
   "cell_type": "code",
   "execution_count": 9,
   "metadata": {},
   "outputs": [
    {
     "data": {
      "text/plain": [
       "video_id                  0\n",
       "trending_date             0\n",
       "title                     0\n",
       "channel_title             0\n",
       "category_id               0\n",
       "publish_time              0\n",
       "tags                      0\n",
       "views                     0\n",
       "likes                     0\n",
       "dislikes                  0\n",
       "comment_count             0\n",
       "thumbnail_link            0\n",
       "comments_disabled         0\n",
       "ratings_disabled          0\n",
       "video_error_or_removed    0\n",
       "description               0\n",
       "dtype: int64"
      ]
     },
     "execution_count": 9,
     "metadata": {},
     "output_type": "execute_result"
    }
   ],
   "source": [
    "USVideos_df['description']=USVideos_df['description'].fillna(\"\")\n",
    "USVideos_df.isnull().sum()"
   ]
  },
  {
   "cell_type": "code",
   "execution_count": 10,
   "metadata": {},
   "outputs": [],
   "source": [
    "# Remove duplicates\n",
    "USVideos_df.drop_duplicates(inplace = True)"
   ]
  },
  {
   "cell_type": "code",
   "execution_count": 11,
   "metadata": {},
   "outputs": [
    {
     "data": {
      "text/html": [
       "<div>\n",
       "<style scoped>\n",
       "    .dataframe tbody tr th:only-of-type {\n",
       "        vertical-align: middle;\n",
       "    }\n",
       "\n",
       "    .dataframe tbody tr th {\n",
       "        vertical-align: top;\n",
       "    }\n",
       "\n",
       "    .dataframe thead th {\n",
       "        text-align: right;\n",
       "    }\n",
       "</style>\n",
       "<table border=\"1\" class=\"dataframe\">\n",
       "  <thead>\n",
       "    <tr style=\"text-align: right;\">\n",
       "      <th></th>\n",
       "      <th>video_id</th>\n",
       "      <th>trending_date</th>\n",
       "      <th>title</th>\n",
       "      <th>channel_title</th>\n",
       "      <th>category_id</th>\n",
       "      <th>publish_time</th>\n",
       "      <th>tags</th>\n",
       "      <th>views</th>\n",
       "      <th>likes</th>\n",
       "      <th>dislikes</th>\n",
       "      <th>comment_count</th>\n",
       "      <th>thumbnail_link</th>\n",
       "      <th>comments_disabled</th>\n",
       "      <th>ratings_disabled</th>\n",
       "      <th>video_error_or_removed</th>\n",
       "      <th>description</th>\n",
       "    </tr>\n",
       "  </thead>\n",
       "  <tbody>\n",
       "    <tr>\n",
       "      <th>0</th>\n",
       "      <td>2kyS6SvSYSE</td>\n",
       "      <td>2017-11-14</td>\n",
       "      <td>WE WANT TO TALK ABOUT OUR MARRIAGE</td>\n",
       "      <td>CaseyNeistat</td>\n",
       "      <td>22</td>\n",
       "      <td>2017-11-13 17:13:01+00:00</td>\n",
       "      <td>SHANtell martin</td>\n",
       "      <td>748374</td>\n",
       "      <td>57527</td>\n",
       "      <td>2966</td>\n",
       "      <td>15954</td>\n",
       "      <td>https://i.ytimg.com/vi/2kyS6SvSYSE/default.jpg</td>\n",
       "      <td>False</td>\n",
       "      <td>False</td>\n",
       "      <td>False</td>\n",
       "      <td>SHANTELL'S CHANNEL - https://www.youtube.com/s...</td>\n",
       "    </tr>\n",
       "    <tr>\n",
       "      <th>1</th>\n",
       "      <td>1ZAPwfrtAFY</td>\n",
       "      <td>2017-11-14</td>\n",
       "      <td>The Trump Presidency: Last Week Tonight with J...</td>\n",
       "      <td>LastWeekTonight</td>\n",
       "      <td>24</td>\n",
       "      <td>2017-11-13 07:30:00+00:00</td>\n",
       "      <td>last week tonight trump presidency|\"last week ...</td>\n",
       "      <td>2418783</td>\n",
       "      <td>97185</td>\n",
       "      <td>6146</td>\n",
       "      <td>12703</td>\n",
       "      <td>https://i.ytimg.com/vi/1ZAPwfrtAFY/default.jpg</td>\n",
       "      <td>False</td>\n",
       "      <td>False</td>\n",
       "      <td>False</td>\n",
       "      <td>One year after the presidential election, John...</td>\n",
       "    </tr>\n",
       "    <tr>\n",
       "      <th>2</th>\n",
       "      <td>5qpjK5DgCt4</td>\n",
       "      <td>2017-11-14</td>\n",
       "      <td>Racist Superman | Rudy Mancuso, King Bach &amp; Le...</td>\n",
       "      <td>Rudy Mancuso</td>\n",
       "      <td>23</td>\n",
       "      <td>2017-11-12 19:05:24+00:00</td>\n",
       "      <td>racist superman|\"rudy\"|\"mancuso\"|\"king\"|\"bach\"...</td>\n",
       "      <td>3191434</td>\n",
       "      <td>146033</td>\n",
       "      <td>5339</td>\n",
       "      <td>8181</td>\n",
       "      <td>https://i.ytimg.com/vi/5qpjK5DgCt4/default.jpg</td>\n",
       "      <td>False</td>\n",
       "      <td>False</td>\n",
       "      <td>False</td>\n",
       "      <td>WATCH MY PREVIOUS VIDEO ▶ \\n\\nSUBSCRIBE ► http...</td>\n",
       "    </tr>\n",
       "    <tr>\n",
       "      <th>3</th>\n",
       "      <td>puqaWrEC7tY</td>\n",
       "      <td>2017-11-14</td>\n",
       "      <td>Nickelback Lyrics: Real or Fake?</td>\n",
       "      <td>Good Mythical Morning</td>\n",
       "      <td>24</td>\n",
       "      <td>2017-11-13 11:00:04+00:00</td>\n",
       "      <td>rhett and link|\"gmm\"|\"good mythical morning\"|\"...</td>\n",
       "      <td>343168</td>\n",
       "      <td>10172</td>\n",
       "      <td>666</td>\n",
       "      <td>2146</td>\n",
       "      <td>https://i.ytimg.com/vi/puqaWrEC7tY/default.jpg</td>\n",
       "      <td>False</td>\n",
       "      <td>False</td>\n",
       "      <td>False</td>\n",
       "      <td>Today we find out if Link is a Nickelback amat...</td>\n",
       "    </tr>\n",
       "    <tr>\n",
       "      <th>4</th>\n",
       "      <td>d380meD0W0M</td>\n",
       "      <td>2017-11-14</td>\n",
       "      <td>I Dare You: GOING BALD!?</td>\n",
       "      <td>nigahiga</td>\n",
       "      <td>24</td>\n",
       "      <td>2017-11-12 18:01:41+00:00</td>\n",
       "      <td>ryan|\"higa\"|\"higatv\"|\"nigahiga\"|\"i dare you\"|\"...</td>\n",
       "      <td>2095731</td>\n",
       "      <td>132235</td>\n",
       "      <td>1989</td>\n",
       "      <td>17518</td>\n",
       "      <td>https://i.ytimg.com/vi/d380meD0W0M/default.jpg</td>\n",
       "      <td>False</td>\n",
       "      <td>False</td>\n",
       "      <td>False</td>\n",
       "      <td>I know it's been a while since we did this sho...</td>\n",
       "    </tr>\n",
       "    <tr>\n",
       "      <th>...</th>\n",
       "      <td>...</td>\n",
       "      <td>...</td>\n",
       "      <td>...</td>\n",
       "      <td>...</td>\n",
       "      <td>...</td>\n",
       "      <td>...</td>\n",
       "      <td>...</td>\n",
       "      <td>...</td>\n",
       "      <td>...</td>\n",
       "      <td>...</td>\n",
       "      <td>...</td>\n",
       "      <td>...</td>\n",
       "      <td>...</td>\n",
       "      <td>...</td>\n",
       "      <td>...</td>\n",
       "      <td>...</td>\n",
       "    </tr>\n",
       "    <tr>\n",
       "      <th>40944</th>\n",
       "      <td>BZt0qjTWNhw</td>\n",
       "      <td>2018-06-14</td>\n",
       "      <td>The Cat Who Caught the Laser</td>\n",
       "      <td>AaronsAnimals</td>\n",
       "      <td>15</td>\n",
       "      <td>2018-05-18 13:00:04+00:00</td>\n",
       "      <td>aarons animals|\"aarons\"|\"animals\"|\"cat\"|\"cats\"...</td>\n",
       "      <td>1685609</td>\n",
       "      <td>38160</td>\n",
       "      <td>1385</td>\n",
       "      <td>2657</td>\n",
       "      <td>https://i.ytimg.com/vi/BZt0qjTWNhw/default.jpg</td>\n",
       "      <td>False</td>\n",
       "      <td>False</td>\n",
       "      <td>False</td>\n",
       "      <td>The Cat Who Caught the Laser - Aaron's Animals</td>\n",
       "    </tr>\n",
       "    <tr>\n",
       "      <th>40945</th>\n",
       "      <td>1h7KV2sjUWY</td>\n",
       "      <td>2018-06-14</td>\n",
       "      <td>True Facts : Ant Mutualism</td>\n",
       "      <td>zefrank1</td>\n",
       "      <td>22</td>\n",
       "      <td>2018-05-18 01:00:06+00:00</td>\n",
       "      <td>[none]</td>\n",
       "      <td>1064798</td>\n",
       "      <td>60008</td>\n",
       "      <td>382</td>\n",
       "      <td>3936</td>\n",
       "      <td>https://i.ytimg.com/vi/1h7KV2sjUWY/default.jpg</td>\n",
       "      <td>False</td>\n",
       "      <td>False</td>\n",
       "      <td>False</td>\n",
       "      <td></td>\n",
       "    </tr>\n",
       "    <tr>\n",
       "      <th>40946</th>\n",
       "      <td>D6Oy4LfoqsU</td>\n",
       "      <td>2018-06-14</td>\n",
       "      <td>I GAVE SAFIYA NYGAARD A PERFECT HAIR MAKEOVER ...</td>\n",
       "      <td>Brad Mondo</td>\n",
       "      <td>24</td>\n",
       "      <td>2018-05-18 17:34:22+00:00</td>\n",
       "      <td>I gave safiya nygaard a perfect hair makeover ...</td>\n",
       "      <td>1066451</td>\n",
       "      <td>48068</td>\n",
       "      <td>1032</td>\n",
       "      <td>3992</td>\n",
       "      <td>https://i.ytimg.com/vi/D6Oy4LfoqsU/default.jpg</td>\n",
       "      <td>False</td>\n",
       "      <td>False</td>\n",
       "      <td>False</td>\n",
       "      <td>I had so much fun transforming Safiyas hair in...</td>\n",
       "    </tr>\n",
       "    <tr>\n",
       "      <th>40947</th>\n",
       "      <td>oV0zkMe1K8s</td>\n",
       "      <td>2018-06-14</td>\n",
       "      <td>How Black Panther Should Have Ended</td>\n",
       "      <td>How It Should Have Ended</td>\n",
       "      <td>1</td>\n",
       "      <td>2018-05-17 17:00:04+00:00</td>\n",
       "      <td>Black Panther|\"HISHE\"|\"Marvel\"|\"Infinity War\"|...</td>\n",
       "      <td>5660813</td>\n",
       "      <td>192957</td>\n",
       "      <td>2846</td>\n",
       "      <td>13088</td>\n",
       "      <td>https://i.ytimg.com/vi/oV0zkMe1K8s/default.jpg</td>\n",
       "      <td>False</td>\n",
       "      <td>False</td>\n",
       "      <td>False</td>\n",
       "      <td>How Black Panther Should Have EndedWatch More ...</td>\n",
       "    </tr>\n",
       "    <tr>\n",
       "      <th>40948</th>\n",
       "      <td>ooyjaVdt-jA</td>\n",
       "      <td>2018-06-14</td>\n",
       "      <td>Official Call of Duty®: Black Ops 4 — Multipla...</td>\n",
       "      <td>Call of Duty</td>\n",
       "      <td>20</td>\n",
       "      <td>2018-05-17 17:09:38+00:00</td>\n",
       "      <td>call of duty|\"cod\"|\"activision\"|\"Black Ops 4\"</td>\n",
       "      <td>10306119</td>\n",
       "      <td>357079</td>\n",
       "      <td>212976</td>\n",
       "      <td>144795</td>\n",
       "      <td>https://i.ytimg.com/vi/ooyjaVdt-jA/default.jpg</td>\n",
       "      <td>False</td>\n",
       "      <td>False</td>\n",
       "      <td>False</td>\n",
       "      <td>Call of Duty: Black Ops 4 Multiplayer raises t...</td>\n",
       "    </tr>\n",
       "  </tbody>\n",
       "</table>\n",
       "<p>40901 rows × 16 columns</p>\n",
       "</div>"
      ],
      "text/plain": [
       "          video_id trending_date  \\\n",
       "0      2kyS6SvSYSE    2017-11-14   \n",
       "1      1ZAPwfrtAFY    2017-11-14   \n",
       "2      5qpjK5DgCt4    2017-11-14   \n",
       "3      puqaWrEC7tY    2017-11-14   \n",
       "4      d380meD0W0M    2017-11-14   \n",
       "...            ...           ...   \n",
       "40944  BZt0qjTWNhw    2018-06-14   \n",
       "40945  1h7KV2sjUWY    2018-06-14   \n",
       "40946  D6Oy4LfoqsU    2018-06-14   \n",
       "40947  oV0zkMe1K8s    2018-06-14   \n",
       "40948  ooyjaVdt-jA    2018-06-14   \n",
       "\n",
       "                                                   title  \\\n",
       "0                     WE WANT TO TALK ABOUT OUR MARRIAGE   \n",
       "1      The Trump Presidency: Last Week Tonight with J...   \n",
       "2      Racist Superman | Rudy Mancuso, King Bach & Le...   \n",
       "3                       Nickelback Lyrics: Real or Fake?   \n",
       "4                               I Dare You: GOING BALD!?   \n",
       "...                                                  ...   \n",
       "40944                       The Cat Who Caught the Laser   \n",
       "40945                         True Facts : Ant Mutualism   \n",
       "40946  I GAVE SAFIYA NYGAARD A PERFECT HAIR MAKEOVER ...   \n",
       "40947                How Black Panther Should Have Ended   \n",
       "40948  Official Call of Duty®: Black Ops 4 — Multipla...   \n",
       "\n",
       "                  channel_title  category_id              publish_time  \\\n",
       "0                  CaseyNeistat           22 2017-11-13 17:13:01+00:00   \n",
       "1               LastWeekTonight           24 2017-11-13 07:30:00+00:00   \n",
       "2                  Rudy Mancuso           23 2017-11-12 19:05:24+00:00   \n",
       "3         Good Mythical Morning           24 2017-11-13 11:00:04+00:00   \n",
       "4                      nigahiga           24 2017-11-12 18:01:41+00:00   \n",
       "...                         ...          ...                       ...   \n",
       "40944             AaronsAnimals           15 2018-05-18 13:00:04+00:00   \n",
       "40945                  zefrank1           22 2018-05-18 01:00:06+00:00   \n",
       "40946                Brad Mondo           24 2018-05-18 17:34:22+00:00   \n",
       "40947  How It Should Have Ended            1 2018-05-17 17:00:04+00:00   \n",
       "40948              Call of Duty           20 2018-05-17 17:09:38+00:00   \n",
       "\n",
       "                                                    tags     views   likes  \\\n",
       "0                                        SHANtell martin    748374   57527   \n",
       "1      last week tonight trump presidency|\"last week ...   2418783   97185   \n",
       "2      racist superman|\"rudy\"|\"mancuso\"|\"king\"|\"bach\"...   3191434  146033   \n",
       "3      rhett and link|\"gmm\"|\"good mythical morning\"|\"...    343168   10172   \n",
       "4      ryan|\"higa\"|\"higatv\"|\"nigahiga\"|\"i dare you\"|\"...   2095731  132235   \n",
       "...                                                  ...       ...     ...   \n",
       "40944  aarons animals|\"aarons\"|\"animals\"|\"cat\"|\"cats\"...   1685609   38160   \n",
       "40945                                             [none]   1064798   60008   \n",
       "40946  I gave safiya nygaard a perfect hair makeover ...   1066451   48068   \n",
       "40947  Black Panther|\"HISHE\"|\"Marvel\"|\"Infinity War\"|...   5660813  192957   \n",
       "40948      call of duty|\"cod\"|\"activision\"|\"Black Ops 4\"  10306119  357079   \n",
       "\n",
       "       dislikes  comment_count  \\\n",
       "0          2966          15954   \n",
       "1          6146          12703   \n",
       "2          5339           8181   \n",
       "3           666           2146   \n",
       "4          1989          17518   \n",
       "...         ...            ...   \n",
       "40944      1385           2657   \n",
       "40945       382           3936   \n",
       "40946      1032           3992   \n",
       "40947      2846          13088   \n",
       "40948    212976         144795   \n",
       "\n",
       "                                       thumbnail_link  comments_disabled  \\\n",
       "0      https://i.ytimg.com/vi/2kyS6SvSYSE/default.jpg              False   \n",
       "1      https://i.ytimg.com/vi/1ZAPwfrtAFY/default.jpg              False   \n",
       "2      https://i.ytimg.com/vi/5qpjK5DgCt4/default.jpg              False   \n",
       "3      https://i.ytimg.com/vi/puqaWrEC7tY/default.jpg              False   \n",
       "4      https://i.ytimg.com/vi/d380meD0W0M/default.jpg              False   \n",
       "...                                               ...                ...   \n",
       "40944  https://i.ytimg.com/vi/BZt0qjTWNhw/default.jpg              False   \n",
       "40945  https://i.ytimg.com/vi/1h7KV2sjUWY/default.jpg              False   \n",
       "40946  https://i.ytimg.com/vi/D6Oy4LfoqsU/default.jpg              False   \n",
       "40947  https://i.ytimg.com/vi/oV0zkMe1K8s/default.jpg              False   \n",
       "40948  https://i.ytimg.com/vi/ooyjaVdt-jA/default.jpg              False   \n",
       "\n",
       "       ratings_disabled  video_error_or_removed  \\\n",
       "0                 False                   False   \n",
       "1                 False                   False   \n",
       "2                 False                   False   \n",
       "3                 False                   False   \n",
       "4                 False                   False   \n",
       "...                 ...                     ...   \n",
       "40944             False                   False   \n",
       "40945             False                   False   \n",
       "40946             False                   False   \n",
       "40947             False                   False   \n",
       "40948             False                   False   \n",
       "\n",
       "                                             description  \n",
       "0      SHANTELL'S CHANNEL - https://www.youtube.com/s...  \n",
       "1      One year after the presidential election, John...  \n",
       "2      WATCH MY PREVIOUS VIDEO ▶ \\n\\nSUBSCRIBE ► http...  \n",
       "3      Today we find out if Link is a Nickelback amat...  \n",
       "4      I know it's been a while since we did this sho...  \n",
       "...                                                  ...  \n",
       "40944     The Cat Who Caught the Laser - Aaron's Animals  \n",
       "40945                                                     \n",
       "40946  I had so much fun transforming Safiyas hair in...  \n",
       "40947  How Black Panther Should Have EndedWatch More ...  \n",
       "40948  Call of Duty: Black Ops 4 Multiplayer raises t...  \n",
       "\n",
       "[40901 rows x 16 columns]"
      ]
     },
     "execution_count": 11,
     "metadata": {},
     "output_type": "execute_result"
    }
   ],
   "source": [
    "# Format the date/timestamp fields in the dataset\n",
    "USVideos_df['trending_date'] = pd.to_datetime(USVideos_df['trending_date'],format = '%y.%d.%m')\n",
    "USVideos_df['publish_time'] = pd.to_datetime(USVideos_df['publish_time'], \n",
    "                                         format = '%Y-%m-%dT%H:%M:%S')\n",
    "USVideos_df\n",
    "\n",
    "#USVideos_df['trending_date']=pd.to_datetime(pd.Series(USVideos_df['trending_date'].apply(lambda x:'20'+x[0:2]+'.'+x[6:]+'.'+x[3:5])))\n",
    "#USVideos_df['publish_time']=pd.to_datetime(pd.Series(USVideos_df['publish_time'].apply(lambda x:x[:19])))\n"
   ]
  },
  {
   "cell_type": "code",
   "execution_count": 12,
   "metadata": {
    "scrolled": true
   },
   "outputs": [
    {
     "data": {
      "text/html": [
       "<div>\n",
       "<style scoped>\n",
       "    .dataframe tbody tr th:only-of-type {\n",
       "        vertical-align: middle;\n",
       "    }\n",
       "\n",
       "    .dataframe tbody tr th {\n",
       "        vertical-align: top;\n",
       "    }\n",
       "\n",
       "    .dataframe thead th {\n",
       "        text-align: right;\n",
       "    }\n",
       "</style>\n",
       "<table border=\"1\" class=\"dataframe\">\n",
       "  <thead>\n",
       "    <tr style=\"text-align: right;\">\n",
       "      <th></th>\n",
       "      <th>category_id</th>\n",
       "      <th>views</th>\n",
       "      <th>likes</th>\n",
       "      <th>dislikes</th>\n",
       "      <th>comment_count</th>\n",
       "    </tr>\n",
       "  </thead>\n",
       "  <tbody>\n",
       "    <tr>\n",
       "      <th>count</th>\n",
       "      <td>40901.00</td>\n",
       "      <td>40901.00</td>\n",
       "      <td>40901.00</td>\n",
       "      <td>40901.00</td>\n",
       "      <td>40901.00</td>\n",
       "    </tr>\n",
       "    <tr>\n",
       "      <th>mean</th>\n",
       "      <td>19.97</td>\n",
       "      <td>2360678.04</td>\n",
       "      <td>74271.73</td>\n",
       "      <td>3711.72</td>\n",
       "      <td>8448.57</td>\n",
       "    </tr>\n",
       "    <tr>\n",
       "      <th>std</th>\n",
       "      <td>7.57</td>\n",
       "      <td>7397718.73</td>\n",
       "      <td>228999.93</td>\n",
       "      <td>29046.24</td>\n",
       "      <td>37451.39</td>\n",
       "    </tr>\n",
       "    <tr>\n",
       "      <th>min</th>\n",
       "      <td>1.00</td>\n",
       "      <td>549.00</td>\n",
       "      <td>0.00</td>\n",
       "      <td>0.00</td>\n",
       "      <td>0.00</td>\n",
       "    </tr>\n",
       "    <tr>\n",
       "      <th>25%</th>\n",
       "      <td>17.00</td>\n",
       "      <td>241972.00</td>\n",
       "      <td>5416.00</td>\n",
       "      <td>202.00</td>\n",
       "      <td>613.00</td>\n",
       "    </tr>\n",
       "    <tr>\n",
       "      <th>50%</th>\n",
       "      <td>24.00</td>\n",
       "      <td>681064.00</td>\n",
       "      <td>18069.00</td>\n",
       "      <td>630.00</td>\n",
       "      <td>1855.00</td>\n",
       "    </tr>\n",
       "    <tr>\n",
       "      <th>75%</th>\n",
       "      <td>25.00</td>\n",
       "      <td>1821926.00</td>\n",
       "      <td>55338.00</td>\n",
       "      <td>1936.00</td>\n",
       "      <td>5752.00</td>\n",
       "    </tr>\n",
       "    <tr>\n",
       "      <th>max</th>\n",
       "      <td>43.00</td>\n",
       "      <td>225211923.00</td>\n",
       "      <td>5613827.00</td>\n",
       "      <td>1674420.00</td>\n",
       "      <td>1361580.00</td>\n",
       "    </tr>\n",
       "  </tbody>\n",
       "</table>\n",
       "</div>"
      ],
      "text/plain": [
       "       category_id        views      likes   dislikes  comment_count\n",
       "count     40901.00     40901.00   40901.00   40901.00       40901.00\n",
       "mean         19.97   2360678.04   74271.73    3711.72        8448.57\n",
       "std           7.57   7397718.73  228999.93   29046.24       37451.39\n",
       "min           1.00       549.00       0.00       0.00           0.00\n",
       "25%          17.00    241972.00    5416.00     202.00         613.00\n",
       "50%          24.00    681064.00   18069.00     630.00        1855.00\n",
       "75%          25.00   1821926.00   55338.00    1936.00        5752.00\n",
       "max          43.00 225211923.00 5613827.00 1674420.00     1361580.00"
      ]
     },
     "execution_count": 12,
     "metadata": {},
     "output_type": "execute_result"
    }
   ],
   "source": [
    "# Check the data summary\n",
    "pd.options.display.float_format = \"{:.2f}\".format\n",
    "USVideos_df.describe()"
   ]
  },
  {
   "cell_type": "markdown",
   "metadata": {},
   "source": [
    "**Below are a few insights from the data:**\n",
    "- 1. The average number of views of a trending video is 2,360,678. \n",
    "- 2. The median value for the number of views is 681,064. That would means that half the trending videos have views that are less than that number, and the other half have views larger than that number.\n",
    "- 3. The average number of likes of a trending video is 74,271, while the average number of dislikes is 3,711. \n",
    "- 4. Average comment count is 8,448 while the median is 1,855."
   ]
  },
  {
   "cell_type": "code",
   "execution_count": 13,
   "metadata": {},
   "outputs": [],
   "source": [
    "# Cleanup tag field, place them in a separate dataframe and delete it from original dataframe.\n",
    "tags_raw_df = USVideos_df[['video_id','tags']].copy()\n",
    "tags_raw_df['tags'] = tags_raw_df['tags'].str.split('|')\n",
    "tags_df = tags_raw_df.explode('tags').reset_index(drop = True)\n",
    "\n",
    "# Remove quotation marks for some tags. \n",
    "mask_cond = (tags_df['tags'].astype(str).str[0] == '\"') & (tags_df['tags'].astype(str).str[-1] == '\"')\n",
    "tags_df['tags'] = tags_df['tags'].where(~mask_cond,tags_df['tags'].astype(str).str[1:-1])"
   ]
  },
  {
   "cell_type": "code",
   "execution_count": 14,
   "metadata": {},
   "outputs": [
    {
     "data": {
      "text/html": [
       "<div>\n",
       "<style scoped>\n",
       "    .dataframe tbody tr th:only-of-type {\n",
       "        vertical-align: middle;\n",
       "    }\n",
       "\n",
       "    .dataframe tbody tr th {\n",
       "        vertical-align: top;\n",
       "    }\n",
       "\n",
       "    .dataframe thead th {\n",
       "        text-align: right;\n",
       "    }\n",
       "</style>\n",
       "<table border=\"1\" class=\"dataframe\">\n",
       "  <thead>\n",
       "    <tr style=\"text-align: right;\">\n",
       "      <th></th>\n",
       "      <th>video_id</th>\n",
       "      <th>trending_date</th>\n",
       "      <th>title</th>\n",
       "      <th>channel_title</th>\n",
       "      <th>category_id</th>\n",
       "      <th>publish_time</th>\n",
       "      <th>views</th>\n",
       "      <th>likes</th>\n",
       "      <th>dislikes</th>\n",
       "      <th>comment_count</th>\n",
       "      <th>thumbnail_link</th>\n",
       "      <th>comments_disabled</th>\n",
       "      <th>ratings_disabled</th>\n",
       "      <th>video_error_or_removed</th>\n",
       "      <th>description</th>\n",
       "    </tr>\n",
       "  </thead>\n",
       "  <tbody>\n",
       "    <tr>\n",
       "      <th>0</th>\n",
       "      <td>2kyS6SvSYSE</td>\n",
       "      <td>2017-11-14</td>\n",
       "      <td>WE WANT TO TALK ABOUT OUR MARRIAGE</td>\n",
       "      <td>CaseyNeistat</td>\n",
       "      <td>22</td>\n",
       "      <td>2017-11-13 17:13:01+00:00</td>\n",
       "      <td>748374</td>\n",
       "      <td>57527</td>\n",
       "      <td>2966</td>\n",
       "      <td>15954</td>\n",
       "      <td>https://i.ytimg.com/vi/2kyS6SvSYSE/default.jpg</td>\n",
       "      <td>False</td>\n",
       "      <td>False</td>\n",
       "      <td>False</td>\n",
       "      <td>SHANTELL'S CHANNEL - https://www.youtube.com/s...</td>\n",
       "    </tr>\n",
       "    <tr>\n",
       "      <th>1</th>\n",
       "      <td>1ZAPwfrtAFY</td>\n",
       "      <td>2017-11-14</td>\n",
       "      <td>The Trump Presidency: Last Week Tonight with J...</td>\n",
       "      <td>LastWeekTonight</td>\n",
       "      <td>24</td>\n",
       "      <td>2017-11-13 07:30:00+00:00</td>\n",
       "      <td>2418783</td>\n",
       "      <td>97185</td>\n",
       "      <td>6146</td>\n",
       "      <td>12703</td>\n",
       "      <td>https://i.ytimg.com/vi/1ZAPwfrtAFY/default.jpg</td>\n",
       "      <td>False</td>\n",
       "      <td>False</td>\n",
       "      <td>False</td>\n",
       "      <td>One year after the presidential election, John...</td>\n",
       "    </tr>\n",
       "    <tr>\n",
       "      <th>2</th>\n",
       "      <td>5qpjK5DgCt4</td>\n",
       "      <td>2017-11-14</td>\n",
       "      <td>Racist Superman | Rudy Mancuso, King Bach &amp; Le...</td>\n",
       "      <td>Rudy Mancuso</td>\n",
       "      <td>23</td>\n",
       "      <td>2017-11-12 19:05:24+00:00</td>\n",
       "      <td>3191434</td>\n",
       "      <td>146033</td>\n",
       "      <td>5339</td>\n",
       "      <td>8181</td>\n",
       "      <td>https://i.ytimg.com/vi/5qpjK5DgCt4/default.jpg</td>\n",
       "      <td>False</td>\n",
       "      <td>False</td>\n",
       "      <td>False</td>\n",
       "      <td>WATCH MY PREVIOUS VIDEO ▶ \\n\\nSUBSCRIBE ► http...</td>\n",
       "    </tr>\n",
       "    <tr>\n",
       "      <th>3</th>\n",
       "      <td>puqaWrEC7tY</td>\n",
       "      <td>2017-11-14</td>\n",
       "      <td>Nickelback Lyrics: Real or Fake?</td>\n",
       "      <td>Good Mythical Morning</td>\n",
       "      <td>24</td>\n",
       "      <td>2017-11-13 11:00:04+00:00</td>\n",
       "      <td>343168</td>\n",
       "      <td>10172</td>\n",
       "      <td>666</td>\n",
       "      <td>2146</td>\n",
       "      <td>https://i.ytimg.com/vi/puqaWrEC7tY/default.jpg</td>\n",
       "      <td>False</td>\n",
       "      <td>False</td>\n",
       "      <td>False</td>\n",
       "      <td>Today we find out if Link is a Nickelback amat...</td>\n",
       "    </tr>\n",
       "    <tr>\n",
       "      <th>4</th>\n",
       "      <td>d380meD0W0M</td>\n",
       "      <td>2017-11-14</td>\n",
       "      <td>I Dare You: GOING BALD!?</td>\n",
       "      <td>nigahiga</td>\n",
       "      <td>24</td>\n",
       "      <td>2017-11-12 18:01:41+00:00</td>\n",
       "      <td>2095731</td>\n",
       "      <td>132235</td>\n",
       "      <td>1989</td>\n",
       "      <td>17518</td>\n",
       "      <td>https://i.ytimg.com/vi/d380meD0W0M/default.jpg</td>\n",
       "      <td>False</td>\n",
       "      <td>False</td>\n",
       "      <td>False</td>\n",
       "      <td>I know it's been a while since we did this sho...</td>\n",
       "    </tr>\n",
       "  </tbody>\n",
       "</table>\n",
       "</div>"
      ],
      "text/plain": [
       "      video_id trending_date  \\\n",
       "0  2kyS6SvSYSE    2017-11-14   \n",
       "1  1ZAPwfrtAFY    2017-11-14   \n",
       "2  5qpjK5DgCt4    2017-11-14   \n",
       "3  puqaWrEC7tY    2017-11-14   \n",
       "4  d380meD0W0M    2017-11-14   \n",
       "\n",
       "                                               title          channel_title  \\\n",
       "0                 WE WANT TO TALK ABOUT OUR MARRIAGE           CaseyNeistat   \n",
       "1  The Trump Presidency: Last Week Tonight with J...        LastWeekTonight   \n",
       "2  Racist Superman | Rudy Mancuso, King Bach & Le...           Rudy Mancuso   \n",
       "3                   Nickelback Lyrics: Real or Fake?  Good Mythical Morning   \n",
       "4                           I Dare You: GOING BALD!?               nigahiga   \n",
       "\n",
       "   category_id              publish_time    views   likes  dislikes  \\\n",
       "0           22 2017-11-13 17:13:01+00:00   748374   57527      2966   \n",
       "1           24 2017-11-13 07:30:00+00:00  2418783   97185      6146   \n",
       "2           23 2017-11-12 19:05:24+00:00  3191434  146033      5339   \n",
       "3           24 2017-11-13 11:00:04+00:00   343168   10172       666   \n",
       "4           24 2017-11-12 18:01:41+00:00  2095731  132235      1989   \n",
       "\n",
       "   comment_count                                  thumbnail_link  \\\n",
       "0          15954  https://i.ytimg.com/vi/2kyS6SvSYSE/default.jpg   \n",
       "1          12703  https://i.ytimg.com/vi/1ZAPwfrtAFY/default.jpg   \n",
       "2           8181  https://i.ytimg.com/vi/5qpjK5DgCt4/default.jpg   \n",
       "3           2146  https://i.ytimg.com/vi/puqaWrEC7tY/default.jpg   \n",
       "4          17518  https://i.ytimg.com/vi/d380meD0W0M/default.jpg   \n",
       "\n",
       "   comments_disabled  ratings_disabled  video_error_or_removed  \\\n",
       "0              False             False                   False   \n",
       "1              False             False                   False   \n",
       "2              False             False                   False   \n",
       "3              False             False                   False   \n",
       "4              False             False                   False   \n",
       "\n",
       "                                         description  \n",
       "0  SHANTELL'S CHANNEL - https://www.youtube.com/s...  \n",
       "1  One year after the presidential election, John...  \n",
       "2  WATCH MY PREVIOUS VIDEO ▶ \\n\\nSUBSCRIBE ► http...  \n",
       "3  Today we find out if Link is a Nickelback amat...  \n",
       "4  I know it's been a while since we did this sho...  "
      ]
     },
     "execution_count": 14,
     "metadata": {},
     "output_type": "execute_result"
    }
   ],
   "source": [
    "# Remove tag\n",
    "del USVideos_df['tags']\n",
    "USVideos_df.head()"
   ]
  },
  {
   "cell_type": "code",
   "execution_count": 15,
   "metadata": {},
   "outputs": [],
   "source": [
    "# Add a new field category name \n",
    "USVideos_df['category_name'] = np.nan\n",
    "USVideos_df.loc[(USVideos_df[\"category_id\"] == 1),\"category_name\"] = 'Film and Animation'\n",
    "USVideos_df.loc[(USVideos_df[\"category_id\"] == 2),\"category_name\"] = 'Cars and Vehicles'\n",
    "USVideos_df.loc[(USVideos_df[\"category_id\"] == 10),\"category_name\"] = 'Music'\n",
    "USVideos_df.loc[(USVideos_df[\"category_id\"] == 15),\"category_name\"] = 'Pets and Animals'\n",
    "USVideos_df.loc[(USVideos_df[\"category_id\"] == 17),\"category_name\"] = 'Sport'\n",
    "USVideos_df.loc[(USVideos_df[\"category_id\"] == 19),\"category_name\"] = 'Travel and Events'\n",
    "USVideos_df.loc[(USVideos_df[\"category_id\"] == 20),\"category_name\"] = 'Gaming'\n",
    "USVideos_df.loc[(USVideos_df[\"category_id\"] == 22),\"category_name\"] = 'People and Blogs'\n",
    "USVideos_df.loc[(USVideos_df[\"category_id\"] == 23),\"category_name\"] = 'Comedy'\n",
    "USVideos_df.loc[(USVideos_df[\"category_id\"] == 24),\"category_name\"] = 'Entertainment'\n",
    "USVideos_df.loc[(USVideos_df[\"category_id\"] == 25),\"category_name\"] = 'News and Politics'\n",
    "USVideos_df.loc[(USVideos_df[\"category_id\"] == 26),\"category_name\"] = 'How to and Style'\n",
    "USVideos_df.loc[(USVideos_df[\"category_id\"] == 27),\"category_name\"] = 'Education'\n",
    "USVideos_df.loc[(USVideos_df[\"category_id\"] == 28),\"category_name\"] = 'Science and Technology'\n",
    "USVideos_df.loc[(USVideos_df[\"category_id\"] == 29),\"category_name\"] = 'Non Profits and Activism'\n",
    "USVideos_df.loc[(USVideos_df[\"category_id\"] == 43),\"category_name\"] = 'Shows'"
   ]
  },
  {
   "cell_type": "code",
   "execution_count": 16,
   "metadata": {},
   "outputs": [
    {
     "data": {
      "text/html": [
       "<div>\n",
       "<style scoped>\n",
       "    .dataframe tbody tr th:only-of-type {\n",
       "        vertical-align: middle;\n",
       "    }\n",
       "\n",
       "    .dataframe tbody tr th {\n",
       "        vertical-align: top;\n",
       "    }\n",
       "\n",
       "    .dataframe thead th {\n",
       "        text-align: right;\n",
       "    }\n",
       "</style>\n",
       "<table border=\"1\" class=\"dataframe\">\n",
       "  <thead>\n",
       "    <tr style=\"text-align: right;\">\n",
       "      <th></th>\n",
       "      <th>video_id</th>\n",
       "      <th>trending_date</th>\n",
       "      <th>title</th>\n",
       "      <th>channel_title</th>\n",
       "      <th>category_id</th>\n",
       "      <th>publish_time</th>\n",
       "      <th>views</th>\n",
       "      <th>likes</th>\n",
       "      <th>dislikes</th>\n",
       "      <th>comment_count</th>\n",
       "      <th>thumbnail_link</th>\n",
       "      <th>comments_disabled</th>\n",
       "      <th>ratings_disabled</th>\n",
       "      <th>video_error_or_removed</th>\n",
       "      <th>description</th>\n",
       "      <th>category_name</th>\n",
       "    </tr>\n",
       "  </thead>\n",
       "  <tbody>\n",
       "    <tr>\n",
       "      <th>0</th>\n",
       "      <td>2kyS6SvSYSE</td>\n",
       "      <td>2017-11-14</td>\n",
       "      <td>WE WANT TO TALK ABOUT OUR MARRIAGE</td>\n",
       "      <td>CaseyNeistat</td>\n",
       "      <td>22</td>\n",
       "      <td>2017-11-13 17:13:01+00:00</td>\n",
       "      <td>748374</td>\n",
       "      <td>57527</td>\n",
       "      <td>2966</td>\n",
       "      <td>15954</td>\n",
       "      <td>https://i.ytimg.com/vi/2kyS6SvSYSE/default.jpg</td>\n",
       "      <td>False</td>\n",
       "      <td>False</td>\n",
       "      <td>False</td>\n",
       "      <td>SHANTELL'S CHANNEL - https://www.youtube.com/s...</td>\n",
       "      <td>People and Blogs</td>\n",
       "    </tr>\n",
       "    <tr>\n",
       "      <th>1</th>\n",
       "      <td>1ZAPwfrtAFY</td>\n",
       "      <td>2017-11-14</td>\n",
       "      <td>The Trump Presidency: Last Week Tonight with J...</td>\n",
       "      <td>LastWeekTonight</td>\n",
       "      <td>24</td>\n",
       "      <td>2017-11-13 07:30:00+00:00</td>\n",
       "      <td>2418783</td>\n",
       "      <td>97185</td>\n",
       "      <td>6146</td>\n",
       "      <td>12703</td>\n",
       "      <td>https://i.ytimg.com/vi/1ZAPwfrtAFY/default.jpg</td>\n",
       "      <td>False</td>\n",
       "      <td>False</td>\n",
       "      <td>False</td>\n",
       "      <td>One year after the presidential election, John...</td>\n",
       "      <td>Entertainment</td>\n",
       "    </tr>\n",
       "    <tr>\n",
       "      <th>2</th>\n",
       "      <td>5qpjK5DgCt4</td>\n",
       "      <td>2017-11-14</td>\n",
       "      <td>Racist Superman | Rudy Mancuso, King Bach &amp; Le...</td>\n",
       "      <td>Rudy Mancuso</td>\n",
       "      <td>23</td>\n",
       "      <td>2017-11-12 19:05:24+00:00</td>\n",
       "      <td>3191434</td>\n",
       "      <td>146033</td>\n",
       "      <td>5339</td>\n",
       "      <td>8181</td>\n",
       "      <td>https://i.ytimg.com/vi/5qpjK5DgCt4/default.jpg</td>\n",
       "      <td>False</td>\n",
       "      <td>False</td>\n",
       "      <td>False</td>\n",
       "      <td>WATCH MY PREVIOUS VIDEO ▶ \\n\\nSUBSCRIBE ► http...</td>\n",
       "      <td>Comedy</td>\n",
       "    </tr>\n",
       "    <tr>\n",
       "      <th>3</th>\n",
       "      <td>puqaWrEC7tY</td>\n",
       "      <td>2017-11-14</td>\n",
       "      <td>Nickelback Lyrics: Real or Fake?</td>\n",
       "      <td>Good Mythical Morning</td>\n",
       "      <td>24</td>\n",
       "      <td>2017-11-13 11:00:04+00:00</td>\n",
       "      <td>343168</td>\n",
       "      <td>10172</td>\n",
       "      <td>666</td>\n",
       "      <td>2146</td>\n",
       "      <td>https://i.ytimg.com/vi/puqaWrEC7tY/default.jpg</td>\n",
       "      <td>False</td>\n",
       "      <td>False</td>\n",
       "      <td>False</td>\n",
       "      <td>Today we find out if Link is a Nickelback amat...</td>\n",
       "      <td>Entertainment</td>\n",
       "    </tr>\n",
       "    <tr>\n",
       "      <th>4</th>\n",
       "      <td>d380meD0W0M</td>\n",
       "      <td>2017-11-14</td>\n",
       "      <td>I Dare You: GOING BALD!?</td>\n",
       "      <td>nigahiga</td>\n",
       "      <td>24</td>\n",
       "      <td>2017-11-12 18:01:41+00:00</td>\n",
       "      <td>2095731</td>\n",
       "      <td>132235</td>\n",
       "      <td>1989</td>\n",
       "      <td>17518</td>\n",
       "      <td>https://i.ytimg.com/vi/d380meD0W0M/default.jpg</td>\n",
       "      <td>False</td>\n",
       "      <td>False</td>\n",
       "      <td>False</td>\n",
       "      <td>I know it's been a while since we did this sho...</td>\n",
       "      <td>Entertainment</td>\n",
       "    </tr>\n",
       "  </tbody>\n",
       "</table>\n",
       "</div>"
      ],
      "text/plain": [
       "      video_id trending_date  \\\n",
       "0  2kyS6SvSYSE    2017-11-14   \n",
       "1  1ZAPwfrtAFY    2017-11-14   \n",
       "2  5qpjK5DgCt4    2017-11-14   \n",
       "3  puqaWrEC7tY    2017-11-14   \n",
       "4  d380meD0W0M    2017-11-14   \n",
       "\n",
       "                                               title          channel_title  \\\n",
       "0                 WE WANT TO TALK ABOUT OUR MARRIAGE           CaseyNeistat   \n",
       "1  The Trump Presidency: Last Week Tonight with J...        LastWeekTonight   \n",
       "2  Racist Superman | Rudy Mancuso, King Bach & Le...           Rudy Mancuso   \n",
       "3                   Nickelback Lyrics: Real or Fake?  Good Mythical Morning   \n",
       "4                           I Dare You: GOING BALD!?               nigahiga   \n",
       "\n",
       "   category_id              publish_time    views   likes  dislikes  \\\n",
       "0           22 2017-11-13 17:13:01+00:00   748374   57527      2966   \n",
       "1           24 2017-11-13 07:30:00+00:00  2418783   97185      6146   \n",
       "2           23 2017-11-12 19:05:24+00:00  3191434  146033      5339   \n",
       "3           24 2017-11-13 11:00:04+00:00   343168   10172       666   \n",
       "4           24 2017-11-12 18:01:41+00:00  2095731  132235      1989   \n",
       "\n",
       "   comment_count                                  thumbnail_link  \\\n",
       "0          15954  https://i.ytimg.com/vi/2kyS6SvSYSE/default.jpg   \n",
       "1          12703  https://i.ytimg.com/vi/1ZAPwfrtAFY/default.jpg   \n",
       "2           8181  https://i.ytimg.com/vi/5qpjK5DgCt4/default.jpg   \n",
       "3           2146  https://i.ytimg.com/vi/puqaWrEC7tY/default.jpg   \n",
       "4          17518  https://i.ytimg.com/vi/d380meD0W0M/default.jpg   \n",
       "\n",
       "   comments_disabled  ratings_disabled  video_error_or_removed  \\\n",
       "0              False             False                   False   \n",
       "1              False             False                   False   \n",
       "2              False             False                   False   \n",
       "3              False             False                   False   \n",
       "4              False             False                   False   \n",
       "\n",
       "                                         description     category_name  \n",
       "0  SHANTELL'S CHANNEL - https://www.youtube.com/s...  People and Blogs  \n",
       "1  One year after the presidential election, John...     Entertainment  \n",
       "2  WATCH MY PREVIOUS VIDEO ▶ \\n\\nSUBSCRIBE ► http...            Comedy  \n",
       "3  Today we find out if Link is a Nickelback amat...     Entertainment  \n",
       "4  I know it's been a while since we did this sho...     Entertainment  "
      ]
     },
     "execution_count": 16,
     "metadata": {},
     "output_type": "execute_result"
    }
   ],
   "source": [
    "USVideos_df.head()"
   ]
  },
  {
   "cell_type": "code",
   "execution_count": 17,
   "metadata": {},
   "outputs": [],
   "source": [
    "#USVideos_df['category_id']= USVideos_df['category_id'].astype(int)\n",
    "#cat_df['id']= cat_df['id'].astype(int)\n",
    "#USVideos_df = pd.merge(USVideos_df,cat_df, left_on ='category_id', right_on = 'id')"
   ]
  },
  {
   "cell_type": "code",
   "execution_count": 18,
   "metadata": {
    "scrolled": true
   },
   "outputs": [
    {
     "data": {
      "text/html": [
       "<div>\n",
       "<style scoped>\n",
       "    .dataframe tbody tr th:only-of-type {\n",
       "        vertical-align: middle;\n",
       "    }\n",
       "\n",
       "    .dataframe tbody tr th {\n",
       "        vertical-align: top;\n",
       "    }\n",
       "\n",
       "    .dataframe thead th {\n",
       "        text-align: right;\n",
       "    }\n",
       "</style>\n",
       "<table border=\"1\" class=\"dataframe\">\n",
       "  <thead>\n",
       "    <tr style=\"text-align: right;\">\n",
       "      <th></th>\n",
       "      <th>video_id</th>\n",
       "      <th>trending_date</th>\n",
       "      <th>title</th>\n",
       "      <th>channel_title</th>\n",
       "      <th>category_id</th>\n",
       "      <th>publish_time</th>\n",
       "      <th>views</th>\n",
       "      <th>likes</th>\n",
       "      <th>dislikes</th>\n",
       "      <th>comment_count</th>\n",
       "      <th>thumbnail_link</th>\n",
       "      <th>comments_disabled</th>\n",
       "      <th>ratings_disabled</th>\n",
       "      <th>video_error_or_removed</th>\n",
       "      <th>description</th>\n",
       "      <th>category_name</th>\n",
       "    </tr>\n",
       "  </thead>\n",
       "  <tbody>\n",
       "    <tr>\n",
       "      <th>0</th>\n",
       "      <td>2kyS6SvSYSE</td>\n",
       "      <td>2017-11-14</td>\n",
       "      <td>WE WANT TO TALK ABOUT OUR MARRIAGE</td>\n",
       "      <td>CaseyNeistat</td>\n",
       "      <td>22</td>\n",
       "      <td>2017-11-13 17:13:01+00:00</td>\n",
       "      <td>748374</td>\n",
       "      <td>57527</td>\n",
       "      <td>2966</td>\n",
       "      <td>15954</td>\n",
       "      <td>https://i.ytimg.com/vi/2kyS6SvSYSE/default.jpg</td>\n",
       "      <td>False</td>\n",
       "      <td>False</td>\n",
       "      <td>False</td>\n",
       "      <td>SHANTELL'S CHANNEL - https://www.youtube.com/s...</td>\n",
       "      <td>People and Blogs</td>\n",
       "    </tr>\n",
       "    <tr>\n",
       "      <th>1</th>\n",
       "      <td>1ZAPwfrtAFY</td>\n",
       "      <td>2017-11-14</td>\n",
       "      <td>The Trump Presidency: Last Week Tonight with J...</td>\n",
       "      <td>LastWeekTonight</td>\n",
       "      <td>24</td>\n",
       "      <td>2017-11-13 07:30:00+00:00</td>\n",
       "      <td>2418783</td>\n",
       "      <td>97185</td>\n",
       "      <td>6146</td>\n",
       "      <td>12703</td>\n",
       "      <td>https://i.ytimg.com/vi/1ZAPwfrtAFY/default.jpg</td>\n",
       "      <td>False</td>\n",
       "      <td>False</td>\n",
       "      <td>False</td>\n",
       "      <td>One year after the presidential election, John...</td>\n",
       "      <td>Entertainment</td>\n",
       "    </tr>\n",
       "    <tr>\n",
       "      <th>2</th>\n",
       "      <td>5qpjK5DgCt4</td>\n",
       "      <td>2017-11-14</td>\n",
       "      <td>Racist Superman | Rudy Mancuso, King Bach &amp; Le...</td>\n",
       "      <td>Rudy Mancuso</td>\n",
       "      <td>23</td>\n",
       "      <td>2017-11-12 19:05:24+00:00</td>\n",
       "      <td>3191434</td>\n",
       "      <td>146033</td>\n",
       "      <td>5339</td>\n",
       "      <td>8181</td>\n",
       "      <td>https://i.ytimg.com/vi/5qpjK5DgCt4/default.jpg</td>\n",
       "      <td>False</td>\n",
       "      <td>False</td>\n",
       "      <td>False</td>\n",
       "      <td>WATCH MY PREVIOUS VIDEO ▶ \\n\\nSUBSCRIBE ► http...</td>\n",
       "      <td>Comedy</td>\n",
       "    </tr>\n",
       "    <tr>\n",
       "      <th>3</th>\n",
       "      <td>puqaWrEC7tY</td>\n",
       "      <td>2017-11-14</td>\n",
       "      <td>Nickelback Lyrics: Real or Fake?</td>\n",
       "      <td>Good Mythical Morning</td>\n",
       "      <td>24</td>\n",
       "      <td>2017-11-13 11:00:04+00:00</td>\n",
       "      <td>343168</td>\n",
       "      <td>10172</td>\n",
       "      <td>666</td>\n",
       "      <td>2146</td>\n",
       "      <td>https://i.ytimg.com/vi/puqaWrEC7tY/default.jpg</td>\n",
       "      <td>False</td>\n",
       "      <td>False</td>\n",
       "      <td>False</td>\n",
       "      <td>Today we find out if Link is a Nickelback amat...</td>\n",
       "      <td>Entertainment</td>\n",
       "    </tr>\n",
       "    <tr>\n",
       "      <th>4</th>\n",
       "      <td>d380meD0W0M</td>\n",
       "      <td>2017-11-14</td>\n",
       "      <td>I Dare You: GOING BALD!?</td>\n",
       "      <td>nigahiga</td>\n",
       "      <td>24</td>\n",
       "      <td>2017-11-12 18:01:41+00:00</td>\n",
       "      <td>2095731</td>\n",
       "      <td>132235</td>\n",
       "      <td>1989</td>\n",
       "      <td>17518</td>\n",
       "      <td>https://i.ytimg.com/vi/d380meD0W0M/default.jpg</td>\n",
       "      <td>False</td>\n",
       "      <td>False</td>\n",
       "      <td>False</td>\n",
       "      <td>I know it's been a while since we did this sho...</td>\n",
       "      <td>Entertainment</td>\n",
       "    </tr>\n",
       "  </tbody>\n",
       "</table>\n",
       "</div>"
      ],
      "text/plain": [
       "      video_id trending_date  \\\n",
       "0  2kyS6SvSYSE    2017-11-14   \n",
       "1  1ZAPwfrtAFY    2017-11-14   \n",
       "2  5qpjK5DgCt4    2017-11-14   \n",
       "3  puqaWrEC7tY    2017-11-14   \n",
       "4  d380meD0W0M    2017-11-14   \n",
       "\n",
       "                                               title          channel_title  \\\n",
       "0                 WE WANT TO TALK ABOUT OUR MARRIAGE           CaseyNeistat   \n",
       "1  The Trump Presidency: Last Week Tonight with J...        LastWeekTonight   \n",
       "2  Racist Superman | Rudy Mancuso, King Bach & Le...           Rudy Mancuso   \n",
       "3                   Nickelback Lyrics: Real or Fake?  Good Mythical Morning   \n",
       "4                           I Dare You: GOING BALD!?               nigahiga   \n",
       "\n",
       "   category_id              publish_time    views   likes  dislikes  \\\n",
       "0           22 2017-11-13 17:13:01+00:00   748374   57527      2966   \n",
       "1           24 2017-11-13 07:30:00+00:00  2418783   97185      6146   \n",
       "2           23 2017-11-12 19:05:24+00:00  3191434  146033      5339   \n",
       "3           24 2017-11-13 11:00:04+00:00   343168   10172       666   \n",
       "4           24 2017-11-12 18:01:41+00:00  2095731  132235      1989   \n",
       "\n",
       "   comment_count                                  thumbnail_link  \\\n",
       "0          15954  https://i.ytimg.com/vi/2kyS6SvSYSE/default.jpg   \n",
       "1          12703  https://i.ytimg.com/vi/1ZAPwfrtAFY/default.jpg   \n",
       "2           8181  https://i.ytimg.com/vi/5qpjK5DgCt4/default.jpg   \n",
       "3           2146  https://i.ytimg.com/vi/puqaWrEC7tY/default.jpg   \n",
       "4          17518  https://i.ytimg.com/vi/d380meD0W0M/default.jpg   \n",
       "\n",
       "   comments_disabled  ratings_disabled  video_error_or_removed  \\\n",
       "0              False             False                   False   \n",
       "1              False             False                   False   \n",
       "2              False             False                   False   \n",
       "3              False             False                   False   \n",
       "4              False             False                   False   \n",
       "\n",
       "                                         description     category_name  \n",
       "0  SHANTELL'S CHANNEL - https://www.youtube.com/s...  People and Blogs  \n",
       "1  One year after the presidential election, John...     Entertainment  \n",
       "2  WATCH MY PREVIOUS VIDEO ▶ \\n\\nSUBSCRIBE ► http...            Comedy  \n",
       "3  Today we find out if Link is a Nickelback amat...     Entertainment  \n",
       "4  I know it's been a while since we did this sho...     Entertainment  "
      ]
     },
     "execution_count": 18,
     "metadata": {},
     "output_type": "execute_result"
    }
   ],
   "source": [
    "USVideos_df.head()"
   ]
  },
  {
   "cell_type": "markdown",
   "metadata": {},
   "source": [
    "### Graph Analysis"
   ]
  },
  {
   "cell_type": "code",
   "execution_count": 19,
   "metadata": {
    "scrolled": true
   },
   "outputs": [
    {
     "data": {
      "image/png": "[encoded data removed]",
      "text/plain": [
       "<Figure size 1080x432 with 1 Axes>"
      ]
     },
     "metadata": {
      "needs_background": "light"
     },
     "output_type": "display_data"
    }
   ],
   "source": [
    "# Find out Top 10 channels\n",
    "channel_df = USVideos_df[['channel_title','video_id']].groupby('channel_title', as_index = False).nunique().nlargest(10, columns = 'video_id')\n",
    "\n",
    "fig = plt.figure(1,[15,6])\n",
    "x = fig.add_subplot(1,1,1)\n",
    "x.bar(channel_df['channel_title'], channel_df['video_id'], alpha = 0.8, color = 'g')\n",
    "labels = channel_df['channel_title'].str[:16]\n",
    "x.set_xticklabels(labels = labels)\n",
    "x.set_title('Top 10 Channels per Number of Trending Videos', fontweight = \"bold\")\n",
    "x.set_xlabel('Channel', fontweight = \"bold\")\n",
    "x.set_ylabel('Videos Trending', fontweight = \"bold\")\n",
    "plt.setp(x.get_xticklabels(), fontsize = 10)\n",
    "plt.show()"
   ]
  },
  {
   "cell_type": "markdown",
   "metadata": {},
   "source": [
    "**This graph shows the top 10 channels which have greatest number of trending videos on YouTube.**"
   ]
  },
  {
   "cell_type": "code",
   "execution_count": 20,
   "metadata": {},
   "outputs": [
    {
     "data": {
      "image/png": "[encoded data removed]",
      "text/plain": [
       "<Figure size 720x360 with 1 Axes>"
      ]
     },
     "metadata": {
      "needs_background": "light"
     },
     "output_type": "display_data"
    }
   ],
   "source": [
    "# Check the days of the week when most uploads happen\n",
    "publish_days_df = USVideos_df['publish_time'].dt.day_name()\n",
    "publish_days_dict = (publish_days_df.value_counts()).to_dict()\n",
    "count= pd.DataFrame(list(publish_days_dict.items()),columns = ['Publishing Day','No. Of Videos']) \n",
    "fig = plt.figure(figsize=(10,5))\n",
    "plt.bar(count['Publishing Day'],count['No. Of Videos'],width = 0.5)\n",
    "plt.xlabel(\"Publishing Day\")\n",
    "plt.ylabel(\"No. Of Videos\")\n",
    "plt.show()"
   ]
  },
  {
   "cell_type": "markdown",
   "metadata": {},
   "source": [
    "**Here we can see the days of the week which had the largest numbers of trending videos. There is a trend that on weekends, there are lesser videos being uploaded**"
   ]
  },
  {
   "cell_type": "code",
   "execution_count": 21,
   "metadata": {},
   "outputs": [
    {
     "data": {
      "image/png": "[encoded data removed]",
      "text/plain": [
       "<Figure size 720x360 with 1 Axes>"
      ]
     },
     "metadata": {
      "needs_background": "light"
     },
     "output_type": "display_data"
    }
   ],
   "source": [
    "# Check the trend with the publishing times\n",
    "pubtime_df = USVideos_df.publish_time.apply(lambda x: x.strftime(\"%H\"))\n",
    "pubtime_dict = (pubtime_df.value_counts()).to_dict()\n",
    "count = pd.DataFrame(list(pubtime_dict.items()),columns = ['Publishing Hour','No. Of Videos']) \n",
    "fig = plt.figure(figsize=(10,5))\n",
    "plt.bar(count['Publishing Hour'],count['No. Of Videos'],color=['purple'],width = 0.5)\n",
    "plt.xlabel(\"Publishing Hour\")\n",
    "plt.ylabel(\"No. Of Videos\")\n",
    "plt.show()"
   ]
  },
  {
   "cell_type": "markdown",
   "metadata": {},
   "source": [
    "**Here we can see the trend that most of the videos are being uploaded between 14:00 and 16:00, highest number of videos being uploaded are around 16:00.**"
   ]
  },
  {
   "cell_type": "code",
   "execution_count": 22,
   "metadata": {},
   "outputs": [
    {
     "data": {
      "image/png": "[encoded data removed]",
      "text/plain": [
       "<Figure size 720x360 with 1 Axes>"
      ]
     },
     "metadata": {
      "needs_background": "light"
     },
     "output_type": "display_data"
    }
   ],
   "source": [
    "# Plot the number of videos across all categories\n",
    "cat_dict = (USVideos_df['category_name'].value_counts()).to_dict()\n",
    "count = pd.DataFrame(list(cat_dict.items()),columns = ['Category','No. Of Videos']) \n",
    "fig = plt.figure(figsize=(10,5))\n",
    "plt.bar(count['Category'],count['No. Of Videos'],color = ['yellow', 'pink', 'red'],width=0.5)\n",
    "plt.xticks(rotation = 90)\n",
    "plt.xlabel(\"Category\",size=12)\n",
    "plt.ylabel(\"No. Of Videos\",size=12)\n",
    "plt.show()"
   ]
  },
  {
   "cell_type": "markdown",
   "metadata": {},
   "source": [
    "**Above plot shows that the Entertainment category contains the largest number of trending videos with around 10,000 videos, second is Music category with around 6,200 videos, followed by How to & Style category with around 4,100 videos.**"
   ]
  },
  {
   "cell_type": "code",
   "execution_count": 23,
   "metadata": {},
   "outputs": [
    {
     "data": {
      "image/png": "[encoded data removed]",
      "text/plain": [
       "<Figure size 720x360 with 1 Axes>"
      ]
     },
     "metadata": {
      "needs_background": "light"
     },
     "output_type": "display_data"
    }
   ],
   "source": [
    "cat_df = USVideos_df.groupby('category_id')\n",
    "cat_likes_df = cat_df['category_name','likes'].max()\n",
    "fig = plt.figure(figsize=(10,5))\n",
    "plt.bar(cat_likes_df['category_name'],cat_likes_df['likes'],color=['yellow', 'pink', 'cyan'],width=0.5)\n",
    "plt.xticks(rotation=45)\n",
    "plt.xlabel(\"Category\",size=15)\n",
    "plt.ylabel(\"Max Likes\",size=15)\n",
    "plt.show()"
   ]
  },
  {
   "cell_type": "markdown",
   "metadata": {},
   "source": [
    "**As we can see in above plot, Music and entertainment videos have most likes.**                                           "
   ]
  },
  {
   "cell_type": "code",
   "execution_count": 24,
   "metadata": {},
   "outputs": [
    {
     "data": {
      "text/plain": [
       "(array([ 0,  1,  2,  3,  4,  5,  6,  7,  8,  9, 10, 11, 12, 13, 14, 15]),\n",
       " [Text(0, 0, 'People and Blogs'),\n",
       "  Text(1, 0, 'Entertainment'),\n",
       "  Text(2, 0, 'Comedy'),\n",
       "  Text(3, 0, 'Science and Technology'),\n",
       "  Text(4, 0, 'Film and Animation'),\n",
       "  Text(5, 0, 'News and Politics'),\n",
       "  Text(6, 0, 'Sport'),\n",
       "  Text(7, 0, 'Music'),\n",
       "  Text(8, 0, 'Pets and Animals'),\n",
       "  Text(9, 0, 'Education'),\n",
       "  Text(10, 0, 'How to and Style'),\n",
       "  Text(11, 0, 'Cars and Vehicles'),\n",
       "  Text(12, 0, 'Travel and Events'),\n",
       "  Text(13, 0, 'Gaming'),\n",
       "  Text(14, 0, 'Non Profits and Activism'),\n",
       "  Text(15, 0, 'Shows')])"
      ]
     },
     "execution_count": 24,
     "metadata": {},
     "output_type": "execute_result"
    },
    {
     "data": {
      "image/png": "[encoded data removed]",
      "text/plain": [
       "<Figure size 432x288 with 1 Axes>"
      ]
     },
     "metadata": {
      "needs_background": "light"
     },
     "output_type": "display_data"
    }
   ],
   "source": [
    "sns.countplot(x=USVideos_df['category_name'])\n",
    "plt.xticks(rotation=60, horizontalalignment='right')"
   ]
  },
  {
   "cell_type": "markdown",
   "metadata": {},
   "source": [
    "**Most of the videos are in the category of 'Entertainment', 'Music', then followed by 'How to and style'.** "
   ]
  },
  {
   "cell_type": "code",
   "execution_count": 25,
   "metadata": {},
   "outputs": [
    {
     "data": {
      "image/png": "[encoded data removed]",
      "text/plain": [
       "<Figure size 864x432 with 1 Axes>"
      ]
     },
     "metadata": {
      "needs_background": "light"
     },
     "output_type": "display_data"
    }
   ],
   "source": [
    "# Check channels with highest vidoes. \n",
    "channel_df = USVideos_df.groupby(\"channel_title\").size().reset_index(name=\"video_count\").sort_values(\"video_count\", ascending=False).head(20)\n",
    "channel_sorted= channel_df.sort_values('video_count')\n",
    "fig = plt.figure(figsize=(12,6))\n",
    "plt.barh(channel_sorted['channel_title'],channel_sorted['video_count'],color=['yellow', 'pink', 'cyan'])\n",
    "plt.xlabel(\"No. Of Videos\",size=15)\n",
    "plt.ylabel(\"Channel\",size=15)\n",
    "plt.show()"
   ]
  },
  {
   "cell_type": "code",
   "execution_count": 26,
   "metadata": {},
   "outputs": [
    {
     "data": {
      "image/png": "[encoded data removed]",
      "text/plain": [
       "<Figure size 432x288 with 1 Axes>"
      ]
     },
     "metadata": {
      "needs_background": "light"
     },
     "output_type": "display_data"
    }
   ],
   "source": [
    "# Scatterplot of views vs likes\n",
    "plt.scatter(USVideos_df['views'],USVideos_df['likes'])\n",
    "plt.xlabel(\"Views\",size=10)\n",
    "plt.ylabel(\"Likes\",size=10)\n",
    "plt.show()"
   ]
  },
  {
   "cell_type": "markdown",
   "metadata": {},
   "source": [
    "**Based on the above scatterplot, there seems to be positive corelation between the no of views and the no of likes of a video.**"
   ]
  },
  {
   "cell_type": "code",
   "execution_count": 27,
   "metadata": {},
   "outputs": [
    {
     "name": "stdout",
     "output_type": "stream",
     "text": [
      "Correlation between views and likes: 0.8346970361835458\n",
      "Correlation between views and dislikes: 0.44192434441905837\n",
      "Correlation between views and comment counts: 0.5748897619674475\n"
     ]
    }
   ],
   "source": [
    "# Correlation between views and likes, dislikes adn comments\n",
    "USVideos_corr_df = USVideos_df[['video_id', 'views', 'likes', 'comment_count','dislikes']].groupby('video_id').max()\n",
    "\n",
    "print('Correlation between views and likes:', USVideos_corr_df['views'].corr(USVideos_corr_df['likes']))\n",
    "print('Correlation between views and dislikes:', USVideos_corr_df['views'].corr(USVideos_corr_df['dislikes']))\n",
    "print('Correlation between views and comment counts:', USVideos_corr_df['views'].corr(USVideos_corr_df['comment_count']))"
   ]
  },
  {
   "cell_type": "code",
   "execution_count": 28,
   "metadata": {},
   "outputs": [
    {
     "data": {
      "text/html": [
       "<div>\n",
       "<style scoped>\n",
       "    .dataframe tbody tr th:only-of-type {\n",
       "        vertical-align: middle;\n",
       "    }\n",
       "\n",
       "    .dataframe tbody tr th {\n",
       "        vertical-align: top;\n",
       "    }\n",
       "\n",
       "    .dataframe thead th {\n",
       "        text-align: right;\n",
       "    }\n",
       "</style>\n",
       "<table border=\"1\" class=\"dataframe\">\n",
       "  <thead>\n",
       "    <tr style=\"text-align: right;\">\n",
       "      <th></th>\n",
       "      <th>views</th>\n",
       "      <th>likes</th>\n",
       "      <th>dislikes</th>\n",
       "      <th>comment_count</th>\n",
       "    </tr>\n",
       "  </thead>\n",
       "  <tbody>\n",
       "    <tr>\n",
       "      <th>views</th>\n",
       "      <td>1.00</td>\n",
       "      <td>0.85</td>\n",
       "      <td>0.47</td>\n",
       "      <td>0.62</td>\n",
       "    </tr>\n",
       "    <tr>\n",
       "      <th>likes</th>\n",
       "      <td>0.85</td>\n",
       "      <td>1.00</td>\n",
       "      <td>0.45</td>\n",
       "      <td>0.80</td>\n",
       "    </tr>\n",
       "    <tr>\n",
       "      <th>dislikes</th>\n",
       "      <td>0.47</td>\n",
       "      <td>0.45</td>\n",
       "      <td>1.00</td>\n",
       "      <td>0.70</td>\n",
       "    </tr>\n",
       "    <tr>\n",
       "      <th>comment_count</th>\n",
       "      <td>0.62</td>\n",
       "      <td>0.80</td>\n",
       "      <td>0.70</td>\n",
       "      <td>1.00</td>\n",
       "    </tr>\n",
       "  </tbody>\n",
       "</table>\n",
       "</div>"
      ],
      "text/plain": [
       "               views  likes  dislikes  comment_count\n",
       "views           1.00   0.85      0.47           0.62\n",
       "likes           0.85   1.00      0.45           0.80\n",
       "dislikes        0.47   0.45      1.00           0.70\n",
       "comment_count   0.62   0.80      0.70           1.00"
      ]
     },
     "execution_count": 28,
     "metadata": {},
     "output_type": "execute_result"
    }
   ],
   "source": [
    "# Correlation Matrix \n",
    "corr_columns = ['views', 'likes', 'dislikes', 'comment_count']\n",
    "corr_matrix = USVideos_df[corr_columns].corr()\n",
    "corr_matrix"
   ]
  },
  {
   "cell_type": "code",
   "execution_count": 29,
   "metadata": {},
   "outputs": [
    {
     "data": {
      "image/png": "[encoded data removed]",
      "text/plain": [
       "<Figure size 576x504 with 2 Axes>"
      ]
     },
     "metadata": {
      "needs_background": "light"
     },
     "output_type": "display_data"
    }
   ],
   "source": [
    "plt.figure(figsize = (8,7)) \n",
    "sns.heatmap(corr_matrix,xticklabels=corr_matrix.columns,yticklabels=corr_matrix.columns,linewidths=.1,cmap=\"YlGnBu\") \n",
    "plt.show()"
   ]
  },
  {
   "cell_type": "code",
   "execution_count": 30,
   "metadata": {},
   "outputs": [
    {
     "data": {
      "image/png": "[encoded data removed]",
      "text/plain": [
       "<Figure size 432x288 with 1 Axes>"
      ]
     },
     "metadata": {
      "needs_background": "light"
     },
     "output_type": "display_data"
    }
   ],
   "source": [
    "plt.scatter(USVideos_df['views'],USVideos_df['dislikes'])\n",
    "plt.xlabel(\"Views\",size=15)\n",
    "plt.ylabel(\"Likes\",size=15)\n",
    "plt.show()"
   ]
  },
  {
   "cell_type": "code",
   "execution_count": 31,
   "metadata": {},
   "outputs": [
    {
     "data": {
      "image/png": "[encoded data removed]",
      "text/plain": [
       "<Figure size 432x432 with 1 Axes>"
      ]
     },
     "metadata": {
      "needs_background": "light"
     },
     "output_type": "display_data"
    }
   ],
   "source": [
    "# Final word cloud after all the cleaning and pre-processing\n",
    "\n",
    "comment_words = ' '\n",
    "stopwords = set(STOPWORDS) \n",
    "\n",
    "# iterate through the csv file \n",
    "for val in USVideos_df.title: \n",
    "\n",
    "   # typecaste each val to string \n",
    "   val = str(val) \n",
    "\n",
    "   # split the value \n",
    "   tokens = val.split() \n",
    "\n",
    "# Convert each token into lowercase \n",
    "for i in range(len(tokens)): \n",
    "    tokens[i] = tokens[i].lower() \n",
    "\n",
    "for words in tokens: \n",
    "    comment_words = comment_words + words + ' '\n",
    "\n",
    "\n",
    "wordcloud = WordCloud(width = 800, height = 800, \n",
    "            background_color ='white', \n",
    "            stopwords = stopwords, \n",
    "            min_font_size = 10).generate(comment_words) \n",
    "\n",
    "# plot the WordCloud image                        \n",
    "plt.figure(figsize = (6, 6), facecolor = None) \n",
    "plt.imshow(wordcloud) \n",
    "plt.axis(\"off\") \n",
    "plt.tight_layout(pad = 0) \n",
    "\n",
    "plt.show() \n"
   ]
  },
  {
   "cell_type": "markdown",
   "metadata": {},
   "source": [
    "### Train and Test "
   ]
  },
  {
   "cell_type": "code",
   "execution_count": 32,
   "metadata": {},
   "outputs": [
    {
     "data": {
      "text/plain": [
       "['ESPN',\n",
       " 'The Tonight Show Starring Jimmy Fallon',\n",
       " 'Netflix',\n",
       " 'TheEllenShow',\n",
       " 'Vox',\n",
       " 'The Late Show with Stephen Colbert',\n",
       " 'Jimmy Kimmel Live',\n",
       " 'Late Night with Seth Meyers',\n",
       " 'Screen Junkies',\n",
       " 'NBA',\n",
       " 'CNN',\n",
       " 'Saturday Night Live',\n",
       " 'WIRED',\n",
       " 'BuzzFeedVideo',\n",
       " 'INSIDER',\n",
       " 'The Late Late Show with James Corden',\n",
       " 'TED-Ed',\n",
       " 'Tom Scott',\n",
       " 'WWE',\n",
       " 'CollegeHumor',\n",
       " 'First We Feast',\n",
       " 'HellthyJunkFood',\n",
       " 'Bon Appétit',\n",
       " 'Warner Bros. Pictures',\n",
       " 'Tasty',\n",
       " 'Life Noggin',\n",
       " 'FBE',\n",
       " 'The King of Random',\n",
       " 'Good Mythical Morning',\n",
       " 'jacksfilms',\n",
       " 'Vanity Fair',\n",
       " 'Vogue',\n",
       " 'Safiya Nygaard',\n",
       " 'SciShow',\n",
       " '20th Century Fox',\n",
       " 'Smosh',\n",
       " 'Dude Perfect',\n",
       " 'Marques Brownlee',\n",
       " 'Great Big Story',\n",
       " 'Marvel Entertainment',\n",
       " 'AsapSCIENCE',\n",
       " 'ABC News',\n",
       " 'NFL',\n",
       " 'The Slow Mo Guys',\n",
       " 'The Voice',\n",
       " 'James Charles',\n",
       " \"Simon's Cat\",\n",
       " 'Washington Post',\n",
       " 'Kurzgesagt – In a Nutshell',\n",
       " 'CrazyRussianHacker',\n",
       " 'Binging with Babish',\n",
       " 'NikkieTutorials',\n",
       " 'E! Entertainment',\n",
       " 'Complex',\n",
       " 'You Suck At Cooking',\n",
       " 'Star Wars',\n",
       " 'Brave Wilderness',\n",
       " 'Universal Pictures',\n",
       " 'Team Coco',\n",
       " 'IISuperwomanII',\n",
       " 'NBC News',\n",
       " 'Inside Edition',\n",
       " 'The Graham Norton Show',\n",
       " 'The Film Theorists',\n",
       " 'Tati',\n",
       " 'REACT',\n",
       " 'TODAY',\n",
       " 'CinemaSins',\n",
       " 'Hannah Stocking',\n",
       " 'iJustine',\n",
       " 'Rosanna Pansino',\n",
       " 'The Verge',\n",
       " 'Refinery29',\n",
       " 'HBO',\n",
       " 'Watch What Happens Live with Andy Cohen',\n",
       " 'CaseyNeistat',\n",
       " 'The View',\n",
       " 'Laura Lee',\n",
       " 'BBC News',\n",
       " 'Bad Lip Reading',\n",
       " 'itsAlexClark',\n",
       " 'PTXofficial',\n",
       " 'Sony Pictures Entertainment',\n",
       " 'Domics',\n",
       " 'nigahiga',\n",
       " 'Nintendo',\n",
       " 'American Idol',\n",
       " 'CBS This Morning',\n",
       " 'BBC Radio 1',\n",
       " 'Charlie Puth',\n",
       " 'The Dodo',\n",
       " 'Entertainment Tonight',\n",
       " 'CBS News',\n",
       " 'How To Cake It',\n",
       " 'LaurDIY',\n",
       " 'Matt Stonie',\n",
       " 'BuzzFeedBlue',\n",
       " 'ibighit',\n",
       " 'LOL Network',\n",
       " 'The New York Times',\n",
       " 'Unbox Therapy',\n",
       " 'ExplosmEntertainment',\n",
       " 'Good Morning America',\n",
       " 'FOX Soccer',\n",
       " 'Michelle Khare',\n",
       " 'Focus Features',\n",
       " 'William Osman',\n",
       " 'As/Is',\n",
       " 'How Ridiculous',\n",
       " 'Grace Helbig',\n",
       " 'TIME',\n",
       " 'Rudy Mancuso',\n",
       " 'SpaceX',\n",
       " 'Studio C',\n",
       " 'Will Smith',\n",
       " 'NBC Sports',\n",
       " 'SMTOWN',\n",
       " 'Lucas the Spider',\n",
       " 'Guava Juice',\n",
       " 'Amber Scholl',\n",
       " 'Half as Interesting',\n",
       " \"What's Inside?\",\n",
       " 'Simone Giertz',\n",
       " 'ThreadBanger',\n",
       " 'vlogbrothers',\n",
       " 'KathleenLights',\n",
       " 'WOWPresents',\n",
       " 'colinfurze',\n",
       " 'Matthias',\n",
       " 'Linus Tech Tips',\n",
       " 'Gus Johnson',\n",
       " 'Hydraulic Press Channel',\n",
       " 'Lele Pons',\n",
       " 'EverythingApplePro',\n",
       " 'Strictly Dumpling',\n",
       " 'Mr. Kate',\n",
       " 'ColliderVideos',\n",
       " 'AaronsAnimals',\n",
       " 'Austin Evans',\n",
       " 'Billboard',\n",
       " 'Cut',\n",
       " 'jypentertainment',\n",
       " 'Mike Boyd',\n",
       " 'Markiplier',\n",
       " 'Movieclips Trailers',\n",
       " 'Tyler Oakley',\n",
       " 'Full Frontal with Samantha Bee',\n",
       " 'The School of Life',\n",
       " 'How To Cook That',\n",
       " 'GQ',\n",
       " 'Jackie Aina',\n",
       " 'Nerdwriter1',\n",
       " 'Paramount Pictures',\n",
       " 'National Geographic',\n",
       " 'The Daily Show with Trevor Noah',\n",
       " \"Britain's Got Talent\",\n",
       " 'emmymadeinjapan',\n",
       " 'Atlantic Records',\n",
       " 'Disney Movie Trailers',\n",
       " 'MeghanTrainorVEVO',\n",
       " 'Business Insider',\n",
       " 'Jenny Nicholson',\n",
       " 'TMZ',\n",
       " 'RM Videos',\n",
       " 'Marzia',\n",
       " 'The Infographics Show',\n",
       " 'Team Edge',\n",
       " 'SiaVEVO',\n",
       " 'Teen Vogue',\n",
       " 'ShawnMendesVEVO',\n",
       " 'Breakfast Club Power 105.1 FM',\n",
       " 'JunsKitchen',\n",
       " 'CalumScottVEVO',\n",
       " 'JennaMarbles',\n",
       " 'MatthewSantoro',\n",
       " 'BuzzFeed Celeb',\n",
       " 'TroyeSivanVEVO',\n",
       " 'AnthonyPadilla',\n",
       " 'TheReportOfTheWeek',\n",
       " 'Carli Bybel',\n",
       " 'Wendy Williams',\n",
       " 'FC Barcelona',\n",
       " 'IGN',\n",
       " 'FaZe Rug',\n",
       " 'Anwar Jibawi',\n",
       " 'Wendover Productions',\n",
       " 'Kelly Clarkson',\n",
       " 'John Campea',\n",
       " 'Lionsgate Movies',\n",
       " 'BostonDynamics',\n",
       " 'PBS Eons',\n",
       " 'Papa Jake',\n",
       " 'Diplo',\n",
       " 'ChainsmokersVEVO',\n",
       " 'Guardian News',\n",
       " 'MLG Highlights',\n",
       " 'Simply Nailogical',\n",
       " 'Rooster Teeth',\n",
       " 'Lip Sync Battle',\n",
       " 'Epicurious',\n",
       " 'Jaiden Animations',\n",
       " 'CBS Los Angeles',\n",
       " 'Casey Holmes']"
      ]
     },
     "execution_count": 32,
     "metadata": {},
     "output_type": "execute_result"
    }
   ],
   "source": [
    "channels_df = USVideos_df.channel_title.value_counts()\n",
    "channels_df = channels_df[channels_df > 50]\n",
    "titles=list(channels_df.index)\n",
    "titles"
   ]
  },
  {
   "cell_type": "code",
   "execution_count": 33,
   "metadata": {
    "scrolled": true
   },
   "outputs": [
    {
     "data": {
      "text/html": [
       "<div>\n",
       "<style scoped>\n",
       "    .dataframe tbody tr th:only-of-type {\n",
       "        vertical-align: middle;\n",
       "    }\n",
       "\n",
       "    .dataframe tbody tr th {\n",
       "        vertical-align: top;\n",
       "    }\n",
       "\n",
       "    .dataframe thead th {\n",
       "        text-align: right;\n",
       "    }\n",
       "</style>\n",
       "<table border=\"1\" class=\"dataframe\">\n",
       "  <thead>\n",
       "    <tr style=\"text-align: right;\">\n",
       "      <th></th>\n",
       "      <th>channel_title</th>\n",
       "      <th>views</th>\n",
       "      <th>likes</th>\n",
       "      <th>dislikes</th>\n",
       "      <th>comment_count</th>\n",
       "      <th>comments_disabled</th>\n",
       "      <th>ratings_disabled</th>\n",
       "      <th>video_error_or_removed</th>\n",
       "      <th>category_name</th>\n",
       "    </tr>\n",
       "  </thead>\n",
       "  <tbody>\n",
       "    <tr>\n",
       "      <th>0</th>\n",
       "      <td>CaseyNeistat</td>\n",
       "      <td>748374</td>\n",
       "      <td>57527</td>\n",
       "      <td>2966</td>\n",
       "      <td>15954</td>\n",
       "      <td>False</td>\n",
       "      <td>False</td>\n",
       "      <td>False</td>\n",
       "      <td>People and Blogs</td>\n",
       "    </tr>\n",
       "    <tr>\n",
       "      <th>1</th>\n",
       "      <td>Rudy Mancuso</td>\n",
       "      <td>3191434</td>\n",
       "      <td>146033</td>\n",
       "      <td>5339</td>\n",
       "      <td>8181</td>\n",
       "      <td>False</td>\n",
       "      <td>False</td>\n",
       "      <td>False</td>\n",
       "      <td>Comedy</td>\n",
       "    </tr>\n",
       "    <tr>\n",
       "      <th>2</th>\n",
       "      <td>Good Mythical Morning</td>\n",
       "      <td>343168</td>\n",
       "      <td>10172</td>\n",
       "      <td>666</td>\n",
       "      <td>2146</td>\n",
       "      <td>False</td>\n",
       "      <td>False</td>\n",
       "      <td>False</td>\n",
       "      <td>Entertainment</td>\n",
       "    </tr>\n",
       "    <tr>\n",
       "      <th>3</th>\n",
       "      <td>nigahiga</td>\n",
       "      <td>2095731</td>\n",
       "      <td>132235</td>\n",
       "      <td>1989</td>\n",
       "      <td>17518</td>\n",
       "      <td>False</td>\n",
       "      <td>False</td>\n",
       "      <td>False</td>\n",
       "      <td>Entertainment</td>\n",
       "    </tr>\n",
       "    <tr>\n",
       "      <th>4</th>\n",
       "      <td>iJustine</td>\n",
       "      <td>119180</td>\n",
       "      <td>9763</td>\n",
       "      <td>511</td>\n",
       "      <td>1434</td>\n",
       "      <td>False</td>\n",
       "      <td>False</td>\n",
       "      <td>False</td>\n",
       "      <td>Science and Technology</td>\n",
       "    </tr>\n",
       "    <tr>\n",
       "      <th>...</th>\n",
       "      <td>...</td>\n",
       "      <td>...</td>\n",
       "      <td>...</td>\n",
       "      <td>...</td>\n",
       "      <td>...</td>\n",
       "      <td>...</td>\n",
       "      <td>...</td>\n",
       "      <td>...</td>\n",
       "      <td>...</td>\n",
       "    </tr>\n",
       "    <tr>\n",
       "      <th>18763</th>\n",
       "      <td>Saturday Night Live</td>\n",
       "      <td>8607264</td>\n",
       "      <td>66559</td>\n",
       "      <td>14179</td>\n",
       "      <td>8382</td>\n",
       "      <td>False</td>\n",
       "      <td>False</td>\n",
       "      <td>False</td>\n",
       "      <td>Entertainment</td>\n",
       "    </tr>\n",
       "    <tr>\n",
       "      <th>18764</th>\n",
       "      <td>Lucas the Spider</td>\n",
       "      <td>8300584</td>\n",
       "      <td>266267</td>\n",
       "      <td>4237</td>\n",
       "      <td>14617</td>\n",
       "      <td>False</td>\n",
       "      <td>False</td>\n",
       "      <td>False</td>\n",
       "      <td>Film and Animation</td>\n",
       "    </tr>\n",
       "    <tr>\n",
       "      <th>18765</th>\n",
       "      <td>The Graham Norton Show</td>\n",
       "      <td>5564576</td>\n",
       "      <td>46351</td>\n",
       "      <td>2295</td>\n",
       "      <td>2861</td>\n",
       "      <td>False</td>\n",
       "      <td>False</td>\n",
       "      <td>False</td>\n",
       "      <td>Entertainment</td>\n",
       "    </tr>\n",
       "    <tr>\n",
       "      <th>18766</th>\n",
       "      <td>BuzzFeed Celeb</td>\n",
       "      <td>8259128</td>\n",
       "      <td>645888</td>\n",
       "      <td>4052</td>\n",
       "      <td>62610</td>\n",
       "      <td>False</td>\n",
       "      <td>False</td>\n",
       "      <td>False</td>\n",
       "      <td>People and Blogs</td>\n",
       "    </tr>\n",
       "    <tr>\n",
       "      <th>18767</th>\n",
       "      <td>AaronsAnimals</td>\n",
       "      <td>1685609</td>\n",
       "      <td>38160</td>\n",
       "      <td>1385</td>\n",
       "      <td>2657</td>\n",
       "      <td>False</td>\n",
       "      <td>False</td>\n",
       "      <td>False</td>\n",
       "      <td>Pets and Animals</td>\n",
       "    </tr>\n",
       "  </tbody>\n",
       "</table>\n",
       "<p>18768 rows × 9 columns</p>\n",
       "</div>"
      ],
      "text/plain": [
       "                channel_title    views   likes  dislikes  comment_count  \\\n",
       "0                CaseyNeistat   748374   57527      2966          15954   \n",
       "1                Rudy Mancuso  3191434  146033      5339           8181   \n",
       "2       Good Mythical Morning   343168   10172       666           2146   \n",
       "3                    nigahiga  2095731  132235      1989          17518   \n",
       "4                    iJustine   119180    9763       511           1434   \n",
       "...                       ...      ...     ...       ...            ...   \n",
       "18763     Saturday Night Live  8607264   66559     14179           8382   \n",
       "18764        Lucas the Spider  8300584  266267      4237          14617   \n",
       "18765  The Graham Norton Show  5564576   46351      2295           2861   \n",
       "18766          BuzzFeed Celeb  8259128  645888      4052          62610   \n",
       "18767           AaronsAnimals  1685609   38160      1385           2657   \n",
       "\n",
       "       comments_disabled  ratings_disabled  video_error_or_removed  \\\n",
       "0                  False             False                   False   \n",
       "1                  False             False                   False   \n",
       "2                  False             False                   False   \n",
       "3                  False             False                   False   \n",
       "4                  False             False                   False   \n",
       "...                  ...               ...                     ...   \n",
       "18763              False             False                   False   \n",
       "18764              False             False                   False   \n",
       "18765              False             False                   False   \n",
       "18766              False             False                   False   \n",
       "18767              False             False                   False   \n",
       "\n",
       "                category_name  \n",
       "0            People and Blogs  \n",
       "1                      Comedy  \n",
       "2               Entertainment  \n",
       "3               Entertainment  \n",
       "4      Science and Technology  \n",
       "...                       ...  \n",
       "18763           Entertainment  \n",
       "18764      Film and Animation  \n",
       "18765           Entertainment  \n",
       "18766        People and Blogs  \n",
       "18767        Pets and Animals  \n",
       "\n",
       "[18768 rows x 9 columns]"
      ]
     },
     "execution_count": 33,
     "metadata": {},
     "output_type": "execute_result"
    }
   ],
   "source": [
    "# Remove the non-numeric fields from the dataset\n",
    "model_data_df = USVideos_df[USVideos_df['channel_title'].isin(titles)]\n",
    "model_data_df = model_data_df.reset_index()\n",
    "model_data_df.drop(['index','video_id','trending_date','title','category_id','thumbnail_link','description','publish_time'],axis=1,inplace=True)\n",
    "model_data_df"
   ]
  },
  {
   "cell_type": "code",
   "execution_count": 34,
   "metadata": {},
   "outputs": [
    {
     "data": {
      "text/html": [
       "<div>\n",
       "<style scoped>\n",
       "    .dataframe tbody tr th:only-of-type {\n",
       "        vertical-align: middle;\n",
       "    }\n",
       "\n",
       "    .dataframe tbody tr th {\n",
       "        vertical-align: top;\n",
       "    }\n",
       "\n",
       "    .dataframe thead th {\n",
       "        text-align: right;\n",
       "    }\n",
       "</style>\n",
       "<table border=\"1\" class=\"dataframe\">\n",
       "  <thead>\n",
       "    <tr style=\"text-align: right;\">\n",
       "      <th></th>\n",
       "      <th>channel_title</th>\n",
       "      <th>views</th>\n",
       "      <th>likes</th>\n",
       "      <th>dislikes</th>\n",
       "      <th>comment_count</th>\n",
       "      <th>comments_disabled</th>\n",
       "      <th>ratings_disabled</th>\n",
       "      <th>video_error_or_removed</th>\n",
       "      <th>category_name</th>\n",
       "    </tr>\n",
       "  </thead>\n",
       "  <tbody>\n",
       "    <tr>\n",
       "      <th>0</th>\n",
       "      <td>32</td>\n",
       "      <td>748374</td>\n",
       "      <td>57527</td>\n",
       "      <td>2966</td>\n",
       "      <td>15954</td>\n",
       "      <td>0</td>\n",
       "      <td>0</td>\n",
       "      <td>0</td>\n",
       "      <td>10</td>\n",
       "    </tr>\n",
       "    <tr>\n",
       "      <th>1</th>\n",
       "      <td>130</td>\n",
       "      <td>3191434</td>\n",
       "      <td>146033</td>\n",
       "      <td>5339</td>\n",
       "      <td>8181</td>\n",
       "      <td>0</td>\n",
       "      <td>0</td>\n",
       "      <td>0</td>\n",
       "      <td>1</td>\n",
       "    </tr>\n",
       "    <tr>\n",
       "      <th>2</th>\n",
       "      <td>60</td>\n",
       "      <td>343168</td>\n",
       "      <td>10172</td>\n",
       "      <td>666</td>\n",
       "      <td>2146</td>\n",
       "      <td>0</td>\n",
       "      <td>0</td>\n",
       "      <td>0</td>\n",
       "      <td>3</td>\n",
       "    </tr>\n",
       "    <tr>\n",
       "      <th>3</th>\n",
       "      <td>201</td>\n",
       "      <td>2095731</td>\n",
       "      <td>132235</td>\n",
       "      <td>1989</td>\n",
       "      <td>17518</td>\n",
       "      <td>0</td>\n",
       "      <td>0</td>\n",
       "      <td>0</td>\n",
       "      <td>3</td>\n",
       "    </tr>\n",
       "    <tr>\n",
       "      <th>4</th>\n",
       "      <td>196</td>\n",
       "      <td>119180</td>\n",
       "      <td>9763</td>\n",
       "      <td>511</td>\n",
       "      <td>1434</td>\n",
       "      <td>0</td>\n",
       "      <td>0</td>\n",
       "      <td>0</td>\n",
       "      <td>12</td>\n",
       "    </tr>\n",
       "    <tr>\n",
       "      <th>...</th>\n",
       "      <td>...</td>\n",
       "      <td>...</td>\n",
       "      <td>...</td>\n",
       "      <td>...</td>\n",
       "      <td>...</td>\n",
       "      <td>...</td>\n",
       "      <td>...</td>\n",
       "      <td>...</td>\n",
       "      <td>...</td>\n",
       "    </tr>\n",
       "    <tr>\n",
       "      <th>18763</th>\n",
       "      <td>133</td>\n",
       "      <td>8607264</td>\n",
       "      <td>66559</td>\n",
       "      <td>14179</td>\n",
       "      <td>8382</td>\n",
       "      <td>0</td>\n",
       "      <td>0</td>\n",
       "      <td>0</td>\n",
       "      <td>3</td>\n",
       "    </tr>\n",
       "    <tr>\n",
       "      <th>18764</th>\n",
       "      <td>98</td>\n",
       "      <td>8300584</td>\n",
       "      <td>266267</td>\n",
       "      <td>4237</td>\n",
       "      <td>14617</td>\n",
       "      <td>0</td>\n",
       "      <td>0</td>\n",
       "      <td>0</td>\n",
       "      <td>4</td>\n",
       "    </tr>\n",
       "    <tr>\n",
       "      <th>18765</th>\n",
       "      <td>159</td>\n",
       "      <td>5564576</td>\n",
       "      <td>46351</td>\n",
       "      <td>2295</td>\n",
       "      <td>2861</td>\n",
       "      <td>0</td>\n",
       "      <td>0</td>\n",
       "      <td>0</td>\n",
       "      <td>3</td>\n",
       "    </tr>\n",
       "    <tr>\n",
       "      <th>18766</th>\n",
       "      <td>22</td>\n",
       "      <td>8259128</td>\n",
       "      <td>645888</td>\n",
       "      <td>4052</td>\n",
       "      <td>62610</td>\n",
       "      <td>0</td>\n",
       "      <td>0</td>\n",
       "      <td>0</td>\n",
       "      <td>10</td>\n",
       "    </tr>\n",
       "    <tr>\n",
       "      <th>18767</th>\n",
       "      <td>2</td>\n",
       "      <td>1685609</td>\n",
       "      <td>38160</td>\n",
       "      <td>1385</td>\n",
       "      <td>2657</td>\n",
       "      <td>0</td>\n",
       "      <td>0</td>\n",
       "      <td>0</td>\n",
       "      <td>11</td>\n",
       "    </tr>\n",
       "  </tbody>\n",
       "</table>\n",
       "<p>18768 rows × 9 columns</p>\n",
       "</div>"
      ],
      "text/plain": [
       "       channel_title    views   likes  dislikes  comment_count  \\\n",
       "0                 32   748374   57527      2966          15954   \n",
       "1                130  3191434  146033      5339           8181   \n",
       "2                 60   343168   10172       666           2146   \n",
       "3                201  2095731  132235      1989          17518   \n",
       "4                196   119180    9763       511           1434   \n",
       "...              ...      ...     ...       ...            ...   \n",
       "18763            133  8607264   66559     14179           8382   \n",
       "18764             98  8300584  266267      4237          14617   \n",
       "18765            159  5564576   46351      2295           2861   \n",
       "18766             22  8259128  645888      4052          62610   \n",
       "18767              2  1685609   38160      1385           2657   \n",
       "\n",
       "       comments_disabled  ratings_disabled  video_error_or_removed  \\\n",
       "0                      0                 0                       0   \n",
       "1                      0                 0                       0   \n",
       "2                      0                 0                       0   \n",
       "3                      0                 0                       0   \n",
       "4                      0                 0                       0   \n",
       "...                  ...               ...                     ...   \n",
       "18763                  0                 0                       0   \n",
       "18764                  0                 0                       0   \n",
       "18765                  0                 0                       0   \n",
       "18766                  0                 0                       0   \n",
       "18767                  0                 0                       0   \n",
       "\n",
       "       category_name  \n",
       "0                 10  \n",
       "1                  1  \n",
       "2                  3  \n",
       "3                  3  \n",
       "4                 12  \n",
       "...              ...  \n",
       "18763              3  \n",
       "18764              4  \n",
       "18765              3  \n",
       "18766             10  \n",
       "18767             11  \n",
       "\n",
       "[18768 rows x 9 columns]"
      ]
     },
     "execution_count": 34,
     "metadata": {},
     "output_type": "execute_result"
    }
   ],
   "source": [
    "le = LabelEncoder()\n",
    "for i in USVideos_df.columns:\n",
    "    if i in ['channel_title','comments_disabled','ratings_disabled','video_error_or_removed','category_name',\n",
    "           'contains_capitalized']:\n",
    "        model_data_df[i] = le.fit_transform(model_data_df[i])\n",
    "model_data_df"
   ]
  },
  {
   "cell_type": "code",
   "execution_count": 35,
   "metadata": {},
   "outputs": [],
   "source": [
    "# Train and test data for likes prediction\n",
    "X = model_data_df.drop('likes',axis=1)\n",
    "y = model_data_df.likes"
   ]
  },
  {
   "cell_type": "code",
   "execution_count": 36,
   "metadata": {},
   "outputs": [
    {
     "name": "stdout",
     "output_type": "stream",
     "text": [
      "X_train:  (15014, 8)\n",
      "X_test:  (3754, 8)\n",
      "y_train:  (15014,)\n",
      "y_test:  (3754,)\n"
     ]
    }
   ],
   "source": [
    "X_train,X_test,y_train,y_test = train_test_split(X,y,test_size = 0.2, random_state = 42)\n",
    "print(\"X_train: \",X_train.shape)\n",
    "print(\"X_test: \",X_test.shape)\n",
    "print(\"y_train: \",y_train.shape)\n",
    "print(\"y_test: \",y_test.shape)"
   ]
  },
  {
   "cell_type": "code",
   "execution_count": 37,
   "metadata": {},
   "outputs": [
    {
     "data": {
      "text/plain": [
       "LinearRegression()"
      ]
     },
     "execution_count": 37,
     "metadata": {},
     "output_type": "execute_result"
    }
   ],
   "source": [
    "model = LinearRegression()\n",
    "model.fit(X_train,y_train)"
   ]
  },
  {
   "cell_type": "code",
   "execution_count": 38,
   "metadata": {},
   "outputs": [],
   "source": [
    "y_pred=model.predict(X_test)"
   ]
  },
  {
   "cell_type": "code",
   "execution_count": 39,
   "metadata": {},
   "outputs": [
    {
     "data": {
      "text/plain": [
       "array([20868.87263548, 43712.38569444, 25658.16794001, ...,\n",
       "       28844.77999901, 19147.65185704, 76474.84766887])"
      ]
     },
     "execution_count": 39,
     "metadata": {},
     "output_type": "execute_result"
    }
   ],
   "source": [
    "y_pred"
   ]
  },
  {
   "cell_type": "code",
   "execution_count": 40,
   "metadata": {
    "scrolled": true
   },
   "outputs": [
    {
     "name": "stdout",
     "output_type": "stream",
     "text": [
      "Mean Absolute Error on Training Set:  31286.584478196557\n",
      "Mean Absolute Error on Testing Set:  28314.906338538465\n",
      "R-Squared Score on Training Set:  0.8780185679074064\n",
      "R-Squared Score on Testing Set:  0.898879735911307\n"
     ]
    }
   ],
   "source": [
    "print(\"Mean Absolute Error on Training Set: \",mean_absolute_error(y_train,model.predict(X_train)))\n",
    "print(\"Mean Absolute Error on Testing Set: \",mean_absolute_error(y_test,y_pred))\n",
    "print(\"R-Squared Score on Training Set: \",r2_score(y_train,model.predict(X_train)))\n",
    "print(\"R-Squared Score on Testing Set: \",r2_score(y_test,y_pred))"
   ]
  },
  {
   "cell_type": "code",
   "execution_count": 41,
   "metadata": {},
   "outputs": [
    {
     "data": {
      "image/png": "[encoded data removed]",
      "text/plain": [
       "<Figure size 432x288 with 1 Axes>"
      ]
     },
     "metadata": {
      "needs_background": "light"
     },
     "output_type": "display_data"
    }
   ],
   "source": [
    "# Plot the results of the model prediction\n",
    "y_pred_train = model.predict(X_train)\n",
    "plt.scatter(y_train,y_pred_train)\n",
    "plt.xlabel('Target', fontsize=18)\n",
    "plt.ylabel('Predictions', fontsize=18)\n",
    "plt.show()\n"
   ]
  },
  {
   "cell_type": "markdown",
   "metadata": {},
   "source": [
    "**Linear regression results shows that r-squared score of 0.89 which seems to be accurate.**"
   ]
  },
  {
   "cell_type": "code",
   "execution_count": 42,
   "metadata": {},
   "outputs": [],
   "source": [
    "# Train and test data for views prediction\n",
    "X = model_data_df.drop('views',axis=1)\n",
    "y = model_data_df.views"
   ]
  },
  {
   "cell_type": "code",
   "execution_count": 43,
   "metadata": {},
   "outputs": [
    {
     "name": "stdout",
     "output_type": "stream",
     "text": [
      "X_train:  (15014, 8)\n",
      "X_test:  (3754, 8)\n",
      "y_train:  (15014,)\n",
      "y_test:  (3754,)\n"
     ]
    }
   ],
   "source": [
    "X_train,X_test,y_train,y_test = train_test_split(X,y,test_size = 0.2, random_state = 42)\n",
    "print(\"X_train: \",X_train.shape)\n",
    "print(\"X_test: \",X_test.shape)\n",
    "print(\"y_train: \",y_train.shape)\n",
    "print(\"y_test: \",y_test.shape)"
   ]
  },
  {
   "cell_type": "code",
   "execution_count": 44,
   "metadata": {},
   "outputs": [
    {
     "data": {
      "text/plain": [
       "LinearRegression()"
      ]
     },
     "execution_count": 44,
     "metadata": {},
     "output_type": "execute_result"
    }
   ],
   "source": [
    "model = LinearRegression()\n",
    "model.fit(X_train,y_train)"
   ]
  },
  {
   "cell_type": "code",
   "execution_count": 45,
   "metadata": {},
   "outputs": [],
   "source": [
    "y_pred=model.predict(X_test)"
   ]
  },
  {
   "cell_type": "code",
   "execution_count": 46,
   "metadata": {},
   "outputs": [
    {
     "data": {
      "text/plain": [
       "array([1210401.37045121, 1443890.04851035, 1333139.6684112 , ...,\n",
       "        884021.2381098 ,  875305.11462055, 2508419.06826074])"
      ]
     },
     "execution_count": 46,
     "metadata": {},
     "output_type": "execute_result"
    }
   ],
   "source": [
    "y_pred"
   ]
  },
  {
   "cell_type": "code",
   "execution_count": 47,
   "metadata": {},
   "outputs": [
    {
     "name": "stdout",
     "output_type": "stream",
     "text": [
      "Mean Absolute Error on Training Set:  1008276.9374112653\n",
      "Mean Absolute Error on Testing Set:  936354.1332232057\n",
      "R-Squared Score on Training Set:  0.7579167271863829\n",
      "R-Squared Score on Testing Set:  0.7803572918802018\n"
     ]
    }
   ],
   "source": [
    "print(\"Mean Absolute Error on Training Set: \",mean_absolute_error(y_train,model.predict(X_train)))\n",
    "print(\"Mean Absolute Error on Testing Set: \",mean_absolute_error(y_test,y_pred))\n",
    "print(\"R-Squared Score on Training Set: \",r2_score(y_train,model.predict(X_train)))\n",
    "print(\"R-Squared Score on Testing Set: \",r2_score(y_test,y_pred))"
   ]
  },
  {
   "cell_type": "markdown",
   "metadata": {},
   "source": [
    "**Linear regression results shows that r-squared score of 0.76 which is not accurate enough and had scope for improvements. Therefore, we will apply Random Forest Regressor model and evaluate if it is a better fit to predict number of views.**"
   ]
  },
  {
   "cell_type": "markdown",
   "metadata": {},
   "source": [
    "**Random Forest Regressor**"
   ]
  },
  {
   "cell_type": "code",
   "execution_count": 48,
   "metadata": {},
   "outputs": [
    {
     "data": {
      "text/html": [
       "<div>\n",
       "<style scoped>\n",
       "    .dataframe tbody tr th:only-of-type {\n",
       "        vertical-align: middle;\n",
       "    }\n",
       "\n",
       "    .dataframe tbody tr th {\n",
       "        vertical-align: top;\n",
       "    }\n",
       "\n",
       "    .dataframe thead th {\n",
       "        text-align: right;\n",
       "    }\n",
       "</style>\n",
       "<table border=\"1\" class=\"dataframe\">\n",
       "  <thead>\n",
       "    <tr style=\"text-align: right;\">\n",
       "      <th></th>\n",
       "      <th>channel_title</th>\n",
       "      <th>views</th>\n",
       "      <th>likes</th>\n",
       "      <th>dislikes</th>\n",
       "      <th>comment_count</th>\n",
       "      <th>comments_disabled</th>\n",
       "      <th>ratings_disabled</th>\n",
       "      <th>video_error_or_removed</th>\n",
       "      <th>category_name</th>\n",
       "    </tr>\n",
       "  </thead>\n",
       "  <tbody>\n",
       "    <tr>\n",
       "      <th>0</th>\n",
       "      <td>32</td>\n",
       "      <td>748374</td>\n",
       "      <td>57527</td>\n",
       "      <td>2966</td>\n",
       "      <td>15954</td>\n",
       "      <td>0</td>\n",
       "      <td>0</td>\n",
       "      <td>0</td>\n",
       "      <td>10</td>\n",
       "    </tr>\n",
       "    <tr>\n",
       "      <th>1</th>\n",
       "      <td>130</td>\n",
       "      <td>3191434</td>\n",
       "      <td>146033</td>\n",
       "      <td>5339</td>\n",
       "      <td>8181</td>\n",
       "      <td>0</td>\n",
       "      <td>0</td>\n",
       "      <td>0</td>\n",
       "      <td>1</td>\n",
       "    </tr>\n",
       "    <tr>\n",
       "      <th>2</th>\n",
       "      <td>60</td>\n",
       "      <td>343168</td>\n",
       "      <td>10172</td>\n",
       "      <td>666</td>\n",
       "      <td>2146</td>\n",
       "      <td>0</td>\n",
       "      <td>0</td>\n",
       "      <td>0</td>\n",
       "      <td>3</td>\n",
       "    </tr>\n",
       "    <tr>\n",
       "      <th>3</th>\n",
       "      <td>201</td>\n",
       "      <td>2095731</td>\n",
       "      <td>132235</td>\n",
       "      <td>1989</td>\n",
       "      <td>17518</td>\n",
       "      <td>0</td>\n",
       "      <td>0</td>\n",
       "      <td>0</td>\n",
       "      <td>3</td>\n",
       "    </tr>\n",
       "    <tr>\n",
       "      <th>4</th>\n",
       "      <td>196</td>\n",
       "      <td>119180</td>\n",
       "      <td>9763</td>\n",
       "      <td>511</td>\n",
       "      <td>1434</td>\n",
       "      <td>0</td>\n",
       "      <td>0</td>\n",
       "      <td>0</td>\n",
       "      <td>12</td>\n",
       "    </tr>\n",
       "  </tbody>\n",
       "</table>\n",
       "</div>"
      ],
      "text/plain": [
       "   channel_title    views   likes  dislikes  comment_count  comments_disabled  \\\n",
       "0             32   748374   57527      2966          15954                  0   \n",
       "1            130  3191434  146033      5339           8181                  0   \n",
       "2             60   343168   10172       666           2146                  0   \n",
       "3            201  2095731  132235      1989          17518                  0   \n",
       "4            196   119180    9763       511           1434                  0   \n",
       "\n",
       "   ratings_disabled  video_error_or_removed  category_name  \n",
       "0                 0                       0             10  \n",
       "1                 0                       0              1  \n",
       "2                 0                       0              3  \n",
       "3                 0                       0              3  \n",
       "4                 0                       0             12  "
      ]
     },
     "execution_count": 48,
     "metadata": {},
     "output_type": "execute_result"
    }
   ],
   "source": [
    "model_data_df.head()"
   ]
  },
  {
   "cell_type": "code",
   "execution_count": 49,
   "metadata": {},
   "outputs": [],
   "source": [
    "x1=model_data_df.drop(['views'],axis=1)\n",
    "y1=model_data_df['views']"
   ]
  },
  {
   "cell_type": "code",
   "execution_count": 50,
   "metadata": {},
   "outputs": [],
   "source": [
    "x_train1, x_test1, y_train1, y_test1=train_test_split(x1,y1, test_size=0.2,random_state=42)"
   ]
  },
  {
   "cell_type": "code",
   "execution_count": 51,
   "metadata": {},
   "outputs": [
    {
     "data": {
      "text/plain": [
       "RandomForestRegressor(n_estimators=300, random_state=30)"
      ]
     },
     "execution_count": 51,
     "metadata": {},
     "output_type": "execute_result"
    }
   ],
   "source": [
    "model =RandomForestRegressor(n_estimators=300, random_state=30)\n",
    "model.fit(x_train1, y_train1)"
   ]
  },
  {
   "cell_type": "code",
   "execution_count": 52,
   "metadata": {},
   "outputs": [
    {
     "name": "stdout",
     "output_type": "stream",
     "text": [
      "220924.74722834092\n"
     ]
    }
   ],
   "source": [
    "y_hat_test1 = model.predict(x_test1)\n",
    "mae = mean_absolute_error(y_test1, y_hat_test1)\n",
    "print(mae)"
   ]
  },
  {
   "cell_type": "markdown",
   "metadata": {},
   "source": [
    "**Random Forest Regressor model to predict number of views has a mean absolute error (MAE) of 220924. That means that 220924 is the amount of error in your measurements. It very much represents the difference between the measured value and “true” value.**"
   ]
  },
  {
   "cell_type": "code",
   "execution_count": 53,
   "metadata": {},
   "outputs": [
    {
     "data": {
      "text/plain": [
       "0.985254371925356"
      ]
     },
     "execution_count": 53,
     "metadata": {},
     "output_type": "execute_result"
    }
   ],
   "source": [
    "model.score(x_test1, y_test1)"
   ]
  },
  {
   "cell_type": "code",
   "execution_count": 54,
   "metadata": {},
   "outputs": [
    {
     "data": {
      "image/png": "[encoded data removed]",
      "text/plain": [
       "<Figure size 432x288 with 1 Axes>"
      ]
     },
     "metadata": {
      "needs_background": "light"
     },
     "output_type": "display_data"
    }
   ],
   "source": [
    "plt.scatter(x=y_test1, y=y_hat_test1)\n",
    "plt.xlabel('Targets', fontsize=18)\n",
    "plt.ylabel('test_Predictions', fontsize=18)\n",
    "plt.title('Prediction Vs Targets',fontsize=18)\n",
    "plt.show()"
   ]
  }
 ],
 "metadata": {
  "kernelspec": {
   "display_name": "Python 3",
   "language": "python",
   "name": "python3"
  },
  "language_info": {
   "codemirror_mode": {
    "name": "ipython",
    "version": 3
   },
   "file_extension": ".py",
   "mimetype": "text/x-python",
   "name": "python",
   "nbconvert_exporter": "python",
   "pygments_lexer": "ipython3",
   "version": "3.8.5"
  }
 },
 "nbformat": 4,
 "nbformat_minor": 4
}
